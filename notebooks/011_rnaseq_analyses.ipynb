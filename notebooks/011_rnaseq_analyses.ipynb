{
 "cells": [
  {
   "cell_type": "markdown",
   "id": "1bbfd3f5-0e9f-4253-a9a2-6a82c36c4e56",
   "metadata": {},
   "source": [
    "# Overview\n",
    "This notebook runs expression analysis for the imparlogs for Schistosoma mansoni. Before running the user needs to edit the following variables located at the beginning of the script:\n",
    "\n",
    "- Illumina_adapters: Location of a fasta file with the Illumina adapters to be used\n",
    "- run_interpro_sequence_dir: Directory with the imparalog sequences [check in your script were is located] \n",
    "- interprot_path: pat to the installation of interproscan\n",
    "- interpro_ID_info: File with information Interpto IDs on interpro.xml\n",
    "- schisto_genome_fasta: S. mansoni genome in fasta format (schistosoma_mansoni.PRJEA36577.WBPS18.genomic.fa)\n",
    "- schisto_gff_file: S. mansoni genome annotation in GFF format (schistosoma_mansoni.PRJEA36577.WBPS18.genomic.fa)\n",
    "- schisto_trans: S. mansoni genome transcript sequences in fasta format (schistosoma_mansoni.PRJEA36577.WBPS18.mRNA_transcripts.fa)\n",
    "- eggnog_annotation: File with the results for the EGGNOG annotation [check in your script were is located] \n",
    "- threads: Number of threads to use when possible.\n",
    "\n",
    "Next are control variables that run the necessary analysis is set to TRUE. Mapping and counting of reads are set for the three datasets under the convention [Dataset Prefix] “_” [Analysis]. The prefixes are “Schisto”, “Schisto_Protasio” and “Schisto_Sanger” for the datasets “Wangwiwatsin et al. 2020”, “Protasio et al. 2012” and “Wellcome Sanger Institute”. And the analyses are “*”_TRIM, “*”_STAR, “*”_COUNT and “*” _MAKER  for read trimming, mapping, counting and count table re-arrangement.  Ej: Schisto_Sanger_TRIM\n",
    "Before they run, it is required to create a folder with the SRA of each datasets. The name of each dataset needs to be given by defining the variable “species_name” on each block of code (total 14 instances).\n",
    "Blocks Smansoni_Genome_Location and Smansoni_Distance_groups generate inputs for R scripts that need to be run only once."
   ]
  },
  {
   "cell_type": "markdown",
   "id": "d06190ff-6fc7-4781-8b94-25f7442b0653",
   "metadata": {},
   "source": [
    "# Differential expression\n",
    "This script calculates the diferential expression for each dataset. Before running the lines with setwd need to be updated for each dataset, giving the path to the full counts table (*“_all_counts.tab”):\n",
    "Line 3: “Wangwiwatsin et al. 2020”\n",
    "Line 139: “Protasio et al. 2012”\n",
    "Line 203: “Wellcome Sanger Institute”"
   ]
  },
  {
   "cell_type": "code",
   "execution_count": null,
   "id": "bf47f1b5-28d7-4796-81e3-5fab90b2119a",
   "metadata": {},
   "outputs": [],
   "source": [
    "%system Rscript ./rnaseq_scripts/001_Expresion_Dif.R"
   ]
  },
  {
   "cell_type": "markdown",
   "id": "71b6e994-6e79-45e7-852b-05f68fdf2ae7",
   "metadata": {},
   "source": [
    "# Normalization and correlations\n",
    "\n",
    "This script runs the correlations based on expression levels. Before running it must be set the working directory appropriate for each dataset. It requires the following files:\n",
    "\n",
    "1. The count table of each dataset (* “_all_counts.tab”)\n",
    "2. Imparaloges for S. mansoni. With the format “Imparalog” “tab” “gene ids, separated by a coma and a space”. (* “_grupos.tab”)\n",
    "3. File with the groups of each sample. With the format ID_Sample “tab” “group” (*“_grupos.tab”). For convenience, the groups must be numbered in the order desired with “nº_”“sample_group”\n",
    "\n",
    "The working directory must be set for each dataset before running."
   ]
  },
  {
   "cell_type": "code",
   "execution_count": null,
   "id": "546676e1-a5a4-4563-9575-292db2a40655",
   "metadata": {},
   "outputs": [],
   "source": [
    "%system Rscript ./rnaseq_scripts/002_Norm_y_Correlaciones.R"
   ]
  },
  {
   "cell_type": "markdown",
   "id": "03a5e477-3644-4fcb-80e2-0ef429289b6f",
   "metadata": {},
   "source": [
    "# Calculate correlations based on distances\n",
    "This script calculates de correlations based on genomic distances. In addition to all previous input files it requires a file named “distance_corr.txt” with the information of each gene pair in the paralogue. Generated in block “Smansoni_Distance_groups” of the main script."
   ]
  },
  {
   "cell_type": "code",
   "execution_count": null,
   "id": "f1304d37-c8e6-41f7-80ba-bc1af4733c25",
   "metadata": {},
   "outputs": [],
   "source": [
    "%system Rscript ./rnaseq_scripts/003_Norm_y_Correlaciones_grupos_distancia.R"
   ]
  },
  {
   "cell_type": "markdown",
   "id": "2a1db325-fd33-4742-b666-71f7d360ac17",
   "metadata": {},
   "source": [
    "# Heatmaps for InterPro domains\n",
    "This script generates the heatmaps for the interpro domains observed within imparalogs of the studied species. Before running the set directory needs to be set to the table location generated on block INTERPRO_DOMAINS_PRE_HEATMAP"
   ]
  },
  {
   "cell_type": "code",
   "execution_count": null,
   "id": "b6ad855e-2512-4e4e-8b16-a573d8a9ab95",
   "metadata": {},
   "outputs": [],
   "source": [
    "%system Rscript ./rnaseq_scripts/004_heatmap_domains.R"
   ]
  }
 ],
 "metadata": {
  "kernelspec": {
   "display_name": "Python 3 (ipykernel)",
   "language": "python",
   "name": "python3"
  },
  "language_info": {
   "codemirror_mode": {
    "name": "ipython",
    "version": 3
   },
   "file_extension": ".py",
   "mimetype": "text/x-python",
   "name": "python",
   "nbconvert_exporter": "python",
   "pygments_lexer": "ipython3",
   "version": "3.11.5"
  }
 },
 "nbformat": 4,
 "nbformat_minor": 5
}
