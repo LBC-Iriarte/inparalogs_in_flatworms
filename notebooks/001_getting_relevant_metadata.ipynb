{
 "cells": [
  {
   "cell_type": "markdown",
   "metadata": {},
   "source": [
    "# Overview\n",
    "\n",
    "In this notebook relevant metadata regarding genome quality are recollected from WormBase ParaSite v19 in order to stablish the set of employed genomes in the study. Then, proteomes are downloaded."
   ]
  },
  {
   "cell_type": "markdown",
   "metadata": {},
   "source": [
    "___\n",
    "**Note**: Platyhelminthes genome data was manually downloaded from WormBase ParaSite site, at https://parasite.wormbase.org/species.html#Platyhelminthes.\n",
    "___"
   ]
  },
  {
   "cell_type": "code",
   "execution_count": 7,
   "metadata": {},
   "outputs": [],
   "source": [
    "import pandas as pd\n",
    "\n",
    "wbps_genome_data = pd.read_csv('../data/species_Platyhelminthes--___.csv')"
   ]
  },
  {
   "cell_type": "code",
   "execution_count": 8,
   "metadata": {},
   "outputs": [],
   "source": [
    "# create useful column\n",
    "wbps_genome_data = wbps_genome_data.assign(\n",
    "    species_code=lambda x: x['Species Name'].str.lower().str.replace(' ', '_') + '_' + x['BioProject ID'].str.lower()\n",
    ")"
   ]
  },
  {
   "cell_type": "code",
   "execution_count": 9,
   "metadata": {},
   "outputs": [
    {
     "data": {
      "text/html": [
       "<div>\n",
       "<style scoped>\n",
       "    .dataframe tbody tr th:only-of-type {\n",
       "        vertical-align: middle;\n",
       "    }\n",
       "\n",
       "    .dataframe tbody tr th {\n",
       "        vertical-align: top;\n",
       "    }\n",
       "\n",
       "    .dataframe thead th {\n",
       "        text-align: right;\n",
       "    }\n",
       "</style>\n",
       "<table border=\"1\" class=\"dataframe\">\n",
       "  <thead>\n",
       "    <tr style=\"text-align: right;\">\n",
       "      <th></th>\n",
       "      <th>Species Name</th>\n",
       "      <th>Provider</th>\n",
       "      <th>Assembly</th>\n",
       "      <th>BioProject ID</th>\n",
       "      <th>Clade</th>\n",
       "      <th>Genome Browser</th>\n",
       "      <th>N50</th>\n",
       "      <th>Genome Size</th>\n",
       "      <th>Number of Scaffolds</th>\n",
       "      <th>Number of Coding Genes</th>\n",
       "      <th>species_code</th>\n",
       "    </tr>\n",
       "  </thead>\n",
       "  <tbody>\n",
       "    <tr>\n",
       "      <th>0</th>\n",
       "      <td>Atriophallophorus winterbourni</td>\n",
       "      <td>Swiss Federal Institute of Technology in Zurich</td>\n",
       "      <td>ASM1340708v1</td>\n",
       "      <td>PRJNA636673</td>\n",
       "      <td>Trematoda (Flukes)</td>\n",
       "      <td>JBrowse | Ensembl</td>\n",
       "      <td>39,978</td>\n",
       "      <td>601,728,533</td>\n",
       "      <td>26,114</td>\n",
       "      <td>11,499</td>\n",
       "      <td>atriophallophorus_winterbourni_prjna636673</td>\n",
       "    </tr>\n",
       "    <tr>\n",
       "      <th>1</th>\n",
       "      <td>Clonorchis sinensis</td>\n",
       "      <td>Sun Yat-sen University</td>\n",
       "      <td>C_sinensis-2.0</td>\n",
       "      <td>PRJDA72781</td>\n",
       "      <td>Trematoda (Flukes)</td>\n",
       "      <td>JBrowse | Ensembl</td>\n",
       "      <td>415,842</td>\n",
       "      <td>547,288,241</td>\n",
       "      <td>4,348</td>\n",
       "      <td>13,634</td>\n",
       "      <td>clonorchis_sinensis_prjda72781</td>\n",
       "    </tr>\n",
       "    <tr>\n",
       "      <th>2</th>\n",
       "      <td>Clonorchis sinensis</td>\n",
       "      <td>The University of Melbourne</td>\n",
       "      <td>CSKR.v2</td>\n",
       "      <td>PRJNA386618</td>\n",
       "      <td>Trematoda (Flukes)</td>\n",
       "      <td>JBrowse | Ensembl</td>\n",
       "      <td>168,711,085</td>\n",
       "      <td>558,124,894</td>\n",
       "      <td>78</td>\n",
       "      <td>13,489</td>\n",
       "      <td>clonorchis_sinensis_prjna386618</td>\n",
       "    </tr>\n",
       "    <tr>\n",
       "      <th>3</th>\n",
       "      <td>Dibothriocephalus latus</td>\n",
       "      <td>Wellcome Sanger Institute</td>\n",
       "      <td>D_latum_Geneva_0011_upd</td>\n",
       "      <td>PRJEB1206</td>\n",
       "      <td>Cestoda (Tapeworms)</td>\n",
       "      <td>JBrowse | Ensembl</td>\n",
       "      <td>6,726</td>\n",
       "      <td>531,434,409</td>\n",
       "      <td>140,294</td>\n",
       "      <td>19,966</td>\n",
       "      <td>dibothriocephalus_latus_prjeb1206</td>\n",
       "    </tr>\n",
       "    <tr>\n",
       "      <th>4</th>\n",
       "      <td>Dicrocoelium dendriticum</td>\n",
       "      <td>Wellcome Sanger Institute</td>\n",
       "      <td>tdDicDend1.1</td>\n",
       "      <td>PRJEB44434</td>\n",
       "      <td>Trematoda (Flukes)</td>\n",
       "      <td>JBrowse | Ensembl</td>\n",
       "      <td>117,106,881</td>\n",
       "      <td>1,889,995,958</td>\n",
       "      <td>19,456</td>\n",
       "      <td>13,685</td>\n",
       "      <td>dicrocoelium_dendriticum_prjeb44434</td>\n",
       "    </tr>\n",
       "  </tbody>\n",
       "</table>\n",
       "</div>"
      ],
      "text/plain": [
       "                     Species Name  \\\n",
       "0  Atriophallophorus winterbourni   \n",
       "1             Clonorchis sinensis   \n",
       "2             Clonorchis sinensis   \n",
       "3         Dibothriocephalus latus   \n",
       "4        Dicrocoelium dendriticum   \n",
       "\n",
       "                                          Provider                 Assembly  \\\n",
       "0  Swiss Federal Institute of Technology in Zurich             ASM1340708v1   \n",
       "1                           Sun Yat-sen University           C_sinensis-2.0   \n",
       "2                      The University of Melbourne                  CSKR.v2   \n",
       "3                        Wellcome Sanger Institute  D_latum_Geneva_0011_upd   \n",
       "4                        Wellcome Sanger Institute             tdDicDend1.1   \n",
       "\n",
       "  BioProject ID                Clade     Genome Browser          N50  \\\n",
       "0   PRJNA636673   Trematoda (Flukes)  JBrowse | Ensembl       39,978   \n",
       "1    PRJDA72781   Trematoda (Flukes)  JBrowse | Ensembl      415,842   \n",
       "2   PRJNA386618   Trematoda (Flukes)  JBrowse | Ensembl  168,711,085   \n",
       "3     PRJEB1206  Cestoda (Tapeworms)  JBrowse | Ensembl        6,726   \n",
       "4    PRJEB44434   Trematoda (Flukes)  JBrowse | Ensembl  117,106,881   \n",
       "\n",
       "     Genome Size Number of Scaffolds Number of Coding Genes  \\\n",
       "0    601,728,533              26,114                 11,499   \n",
       "1    547,288,241               4,348                 13,634   \n",
       "2    558,124,894                  78                 13,489   \n",
       "3    531,434,409             140,294                 19,966   \n",
       "4  1,889,995,958              19,456                 13,685   \n",
       "\n",
       "                                 species_code  \n",
       "0  atriophallophorus_winterbourni_prjna636673  \n",
       "1              clonorchis_sinensis_prjda72781  \n",
       "2             clonorchis_sinensis_prjna386618  \n",
       "3           dibothriocephalus_latus_prjeb1206  \n",
       "4         dicrocoelium_dendriticum_prjeb44434  "
      ]
     },
     "execution_count": 9,
     "metadata": {},
     "output_type": "execute_result"
    }
   ],
   "source": [
    "wbps_genome_data.head()"
   ]
  },
  {
   "cell_type": "markdown",
   "metadata": {},
   "source": [
    "# Getting BUSCO data"
   ]
  },
  {
   "cell_type": "code",
   "execution_count": 4,
   "metadata": {
    "scrolled": true,
    "tags": []
   },
   "outputs": [
    {
     "name": "stderr",
     "output_type": "stream",
     "text": [
      "/home/mauricio/mauricio_PROGRAMAS/anaconda3/envs/py39/lib/python3.10/site-packages/urllib3/connection.py:382: SystemTimeWarning: System time is way off (before 2022-01-01). This will probably lead to SSL verification errors\n",
      "  warnings.warn(\n"
     ]
    },
    {
     "ename": "SSLError",
     "evalue": "HTTPSConnectionPool(host='parasite.wormbase.org', port=443): Max retries exceeded with url: /rest-18/info/quality/atriophallophorus_winterbourni_prjna636673 (Caused by SSLError(SSLCertVerificationError(1, '[SSL: CERTIFICATE_VERIFY_FAILED] certificate verify failed: certificate is not yet valid (_ssl.c:997)')))",
     "output_type": "error",
     "traceback": [
      "\u001b[0;31m---------------------------------------------------------------------------\u001b[0m",
      "\u001b[0;31mSSLCertVerificationError\u001b[0m                  Traceback (most recent call last)",
      "File \u001b[0;32m~/mauricio_PROGRAMAS/anaconda3/envs/py39/lib/python3.10/site-packages/urllib3/connectionpool.py:703\u001b[0m, in \u001b[0;36mHTTPConnectionPool.urlopen\u001b[0;34m(self, method, url, body, headers, retries, redirect, assert_same_host, timeout, pool_timeout, release_conn, chunked, body_pos, **response_kw)\u001b[0m\n\u001b[1;32m    702\u001b[0m \u001b[38;5;66;03m# Make the request on the httplib connection object.\u001b[39;00m\n\u001b[0;32m--> 703\u001b[0m httplib_response \u001b[38;5;241m=\u001b[39m \u001b[38;5;28;43mself\u001b[39;49m\u001b[38;5;241;43m.\u001b[39;49m\u001b[43m_make_request\u001b[49m\u001b[43m(\u001b[49m\n\u001b[1;32m    704\u001b[0m \u001b[43m    \u001b[49m\u001b[43mconn\u001b[49m\u001b[43m,\u001b[49m\n\u001b[1;32m    705\u001b[0m \u001b[43m    \u001b[49m\u001b[43mmethod\u001b[49m\u001b[43m,\u001b[49m\n\u001b[1;32m    706\u001b[0m \u001b[43m    \u001b[49m\u001b[43murl\u001b[49m\u001b[43m,\u001b[49m\n\u001b[1;32m    707\u001b[0m \u001b[43m    \u001b[49m\u001b[43mtimeout\u001b[49m\u001b[38;5;241;43m=\u001b[39;49m\u001b[43mtimeout_obj\u001b[49m\u001b[43m,\u001b[49m\n\u001b[1;32m    708\u001b[0m \u001b[43m    \u001b[49m\u001b[43mbody\u001b[49m\u001b[38;5;241;43m=\u001b[39;49m\u001b[43mbody\u001b[49m\u001b[43m,\u001b[49m\n\u001b[1;32m    709\u001b[0m \u001b[43m    \u001b[49m\u001b[43mheaders\u001b[49m\u001b[38;5;241;43m=\u001b[39;49m\u001b[43mheaders\u001b[49m\u001b[43m,\u001b[49m\n\u001b[1;32m    710\u001b[0m \u001b[43m    \u001b[49m\u001b[43mchunked\u001b[49m\u001b[38;5;241;43m=\u001b[39;49m\u001b[43mchunked\u001b[49m\u001b[43m,\u001b[49m\n\u001b[1;32m    711\u001b[0m \u001b[43m\u001b[49m\u001b[43m)\u001b[49m\n\u001b[1;32m    713\u001b[0m \u001b[38;5;66;03m# If we're going to release the connection in ``finally:``, then\u001b[39;00m\n\u001b[1;32m    714\u001b[0m \u001b[38;5;66;03m# the response doesn't need to know about the connection. Otherwise\u001b[39;00m\n\u001b[1;32m    715\u001b[0m \u001b[38;5;66;03m# it will also try to release it and we'll have a double-release\u001b[39;00m\n\u001b[1;32m    716\u001b[0m \u001b[38;5;66;03m# mess.\u001b[39;00m\n",
      "File \u001b[0;32m~/mauricio_PROGRAMAS/anaconda3/envs/py39/lib/python3.10/site-packages/urllib3/connectionpool.py:386\u001b[0m, in \u001b[0;36mHTTPConnectionPool._make_request\u001b[0;34m(self, conn, method, url, timeout, chunked, **httplib_request_kw)\u001b[0m\n\u001b[1;32m    385\u001b[0m \u001b[38;5;28;01mtry\u001b[39;00m:\n\u001b[0;32m--> 386\u001b[0m     \u001b[38;5;28;43mself\u001b[39;49m\u001b[38;5;241;43m.\u001b[39;49m\u001b[43m_validate_conn\u001b[49m\u001b[43m(\u001b[49m\u001b[43mconn\u001b[49m\u001b[43m)\u001b[49m\n\u001b[1;32m    387\u001b[0m \u001b[38;5;28;01mexcept\u001b[39;00m (SocketTimeout, BaseSSLError) \u001b[38;5;28;01mas\u001b[39;00m e:\n\u001b[1;32m    388\u001b[0m     \u001b[38;5;66;03m# Py2 raises this as a BaseSSLError, Py3 raises it as socket timeout.\u001b[39;00m\n",
      "File \u001b[0;32m~/mauricio_PROGRAMAS/anaconda3/envs/py39/lib/python3.10/site-packages/urllib3/connectionpool.py:1042\u001b[0m, in \u001b[0;36mHTTPSConnectionPool._validate_conn\u001b[0;34m(self, conn)\u001b[0m\n\u001b[1;32m   1041\u001b[0m \u001b[38;5;28;01mif\u001b[39;00m \u001b[38;5;129;01mnot\u001b[39;00m \u001b[38;5;28mgetattr\u001b[39m(conn, \u001b[38;5;124m\"\u001b[39m\u001b[38;5;124msock\u001b[39m\u001b[38;5;124m\"\u001b[39m, \u001b[38;5;28;01mNone\u001b[39;00m):  \u001b[38;5;66;03m# AppEngine might not have  `.sock`\u001b[39;00m\n\u001b[0;32m-> 1042\u001b[0m     \u001b[43mconn\u001b[49m\u001b[38;5;241;43m.\u001b[39;49m\u001b[43mconnect\u001b[49m\u001b[43m(\u001b[49m\u001b[43m)\u001b[49m\n\u001b[1;32m   1044\u001b[0m \u001b[38;5;28;01mif\u001b[39;00m \u001b[38;5;129;01mnot\u001b[39;00m conn\u001b[38;5;241m.\u001b[39mis_verified:\n",
      "File \u001b[0;32m~/mauricio_PROGRAMAS/anaconda3/envs/py39/lib/python3.10/site-packages/urllib3/connection.py:414\u001b[0m, in \u001b[0;36mHTTPSConnection.connect\u001b[0;34m(self)\u001b[0m\n\u001b[1;32m    412\u001b[0m     context\u001b[38;5;241m.\u001b[39mload_default_certs()\n\u001b[0;32m--> 414\u001b[0m \u001b[38;5;28mself\u001b[39m\u001b[38;5;241m.\u001b[39msock \u001b[38;5;241m=\u001b[39m \u001b[43mssl_wrap_socket\u001b[49m\u001b[43m(\u001b[49m\n\u001b[1;32m    415\u001b[0m \u001b[43m    \u001b[49m\u001b[43msock\u001b[49m\u001b[38;5;241;43m=\u001b[39;49m\u001b[43mconn\u001b[49m\u001b[43m,\u001b[49m\n\u001b[1;32m    416\u001b[0m \u001b[43m    \u001b[49m\u001b[43mkeyfile\u001b[49m\u001b[38;5;241;43m=\u001b[39;49m\u001b[38;5;28;43mself\u001b[39;49m\u001b[38;5;241;43m.\u001b[39;49m\u001b[43mkey_file\u001b[49m\u001b[43m,\u001b[49m\n\u001b[1;32m    417\u001b[0m \u001b[43m    \u001b[49m\u001b[43mcertfile\u001b[49m\u001b[38;5;241;43m=\u001b[39;49m\u001b[38;5;28;43mself\u001b[39;49m\u001b[38;5;241;43m.\u001b[39;49m\u001b[43mcert_file\u001b[49m\u001b[43m,\u001b[49m\n\u001b[1;32m    418\u001b[0m \u001b[43m    \u001b[49m\u001b[43mkey_password\u001b[49m\u001b[38;5;241;43m=\u001b[39;49m\u001b[38;5;28;43mself\u001b[39;49m\u001b[38;5;241;43m.\u001b[39;49m\u001b[43mkey_password\u001b[49m\u001b[43m,\u001b[49m\n\u001b[1;32m    419\u001b[0m \u001b[43m    \u001b[49m\u001b[43mca_certs\u001b[49m\u001b[38;5;241;43m=\u001b[39;49m\u001b[38;5;28;43mself\u001b[39;49m\u001b[38;5;241;43m.\u001b[39;49m\u001b[43mca_certs\u001b[49m\u001b[43m,\u001b[49m\n\u001b[1;32m    420\u001b[0m \u001b[43m    \u001b[49m\u001b[43mca_cert_dir\u001b[49m\u001b[38;5;241;43m=\u001b[39;49m\u001b[38;5;28;43mself\u001b[39;49m\u001b[38;5;241;43m.\u001b[39;49m\u001b[43mca_cert_dir\u001b[49m\u001b[43m,\u001b[49m\n\u001b[1;32m    421\u001b[0m \u001b[43m    \u001b[49m\u001b[43mca_cert_data\u001b[49m\u001b[38;5;241;43m=\u001b[39;49m\u001b[38;5;28;43mself\u001b[39;49m\u001b[38;5;241;43m.\u001b[39;49m\u001b[43mca_cert_data\u001b[49m\u001b[43m,\u001b[49m\n\u001b[1;32m    422\u001b[0m \u001b[43m    \u001b[49m\u001b[43mserver_hostname\u001b[49m\u001b[38;5;241;43m=\u001b[39;49m\u001b[43mserver_hostname\u001b[49m\u001b[43m,\u001b[49m\n\u001b[1;32m    423\u001b[0m \u001b[43m    \u001b[49m\u001b[43mssl_context\u001b[49m\u001b[38;5;241;43m=\u001b[39;49m\u001b[43mcontext\u001b[49m\u001b[43m,\u001b[49m\n\u001b[1;32m    424\u001b[0m \u001b[43m    \u001b[49m\u001b[43mtls_in_tls\u001b[49m\u001b[38;5;241;43m=\u001b[39;49m\u001b[43mtls_in_tls\u001b[49m\u001b[43m,\u001b[49m\n\u001b[1;32m    425\u001b[0m \u001b[43m\u001b[49m\u001b[43m)\u001b[49m\n\u001b[1;32m    427\u001b[0m \u001b[38;5;66;03m# If we're using all defaults and the connection\u001b[39;00m\n\u001b[1;32m    428\u001b[0m \u001b[38;5;66;03m# is TLSv1 or TLSv1.1 we throw a DeprecationWarning\u001b[39;00m\n\u001b[1;32m    429\u001b[0m \u001b[38;5;66;03m# for the host.\u001b[39;00m\n",
      "File \u001b[0;32m~/mauricio_PROGRAMAS/anaconda3/envs/py39/lib/python3.10/site-packages/urllib3/util/ssl_.py:449\u001b[0m, in \u001b[0;36mssl_wrap_socket\u001b[0;34m(sock, keyfile, certfile, cert_reqs, ca_certs, server_hostname, ssl_version, ciphers, ssl_context, ca_cert_dir, key_password, ca_cert_data, tls_in_tls)\u001b[0m\n\u001b[1;32m    448\u001b[0m \u001b[38;5;28;01mif\u001b[39;00m send_sni:\n\u001b[0;32m--> 449\u001b[0m     ssl_sock \u001b[38;5;241m=\u001b[39m \u001b[43m_ssl_wrap_socket_impl\u001b[49m\u001b[43m(\u001b[49m\n\u001b[1;32m    450\u001b[0m \u001b[43m        \u001b[49m\u001b[43msock\u001b[49m\u001b[43m,\u001b[49m\u001b[43m \u001b[49m\u001b[43mcontext\u001b[49m\u001b[43m,\u001b[49m\u001b[43m \u001b[49m\u001b[43mtls_in_tls\u001b[49m\u001b[43m,\u001b[49m\u001b[43m \u001b[49m\u001b[43mserver_hostname\u001b[49m\u001b[38;5;241;43m=\u001b[39;49m\u001b[43mserver_hostname\u001b[49m\n\u001b[1;32m    451\u001b[0m \u001b[43m    \u001b[49m\u001b[43m)\u001b[49m\n\u001b[1;32m    452\u001b[0m \u001b[38;5;28;01melse\u001b[39;00m:\n",
      "File \u001b[0;32m~/mauricio_PROGRAMAS/anaconda3/envs/py39/lib/python3.10/site-packages/urllib3/util/ssl_.py:493\u001b[0m, in \u001b[0;36m_ssl_wrap_socket_impl\u001b[0;34m(sock, ssl_context, tls_in_tls, server_hostname)\u001b[0m\n\u001b[1;32m    492\u001b[0m \u001b[38;5;28;01mif\u001b[39;00m server_hostname:\n\u001b[0;32m--> 493\u001b[0m     \u001b[38;5;28;01mreturn\u001b[39;00m \u001b[43mssl_context\u001b[49m\u001b[38;5;241;43m.\u001b[39;49m\u001b[43mwrap_socket\u001b[49m\u001b[43m(\u001b[49m\u001b[43msock\u001b[49m\u001b[43m,\u001b[49m\u001b[43m \u001b[49m\u001b[43mserver_hostname\u001b[49m\u001b[38;5;241;43m=\u001b[39;49m\u001b[43mserver_hostname\u001b[49m\u001b[43m)\u001b[49m\n\u001b[1;32m    494\u001b[0m \u001b[38;5;28;01melse\u001b[39;00m:\n",
      "File \u001b[0;32m~/mauricio_PROGRAMAS/anaconda3/envs/py39/lib/python3.10/ssl.py:513\u001b[0m, in \u001b[0;36mSSLContext.wrap_socket\u001b[0;34m(self, sock, server_side, do_handshake_on_connect, suppress_ragged_eofs, server_hostname, session)\u001b[0m\n\u001b[1;32m    507\u001b[0m \u001b[38;5;28;01mdef\u001b[39;00m \u001b[38;5;21mwrap_socket\u001b[39m(\u001b[38;5;28mself\u001b[39m, sock, server_side\u001b[38;5;241m=\u001b[39m\u001b[38;5;28;01mFalse\u001b[39;00m,\n\u001b[1;32m    508\u001b[0m                 do_handshake_on_connect\u001b[38;5;241m=\u001b[39m\u001b[38;5;28;01mTrue\u001b[39;00m,\n\u001b[1;32m    509\u001b[0m                 suppress_ragged_eofs\u001b[38;5;241m=\u001b[39m\u001b[38;5;28;01mTrue\u001b[39;00m,\n\u001b[1;32m    510\u001b[0m                 server_hostname\u001b[38;5;241m=\u001b[39m\u001b[38;5;28;01mNone\u001b[39;00m, session\u001b[38;5;241m=\u001b[39m\u001b[38;5;28;01mNone\u001b[39;00m):\n\u001b[1;32m    511\u001b[0m     \u001b[38;5;66;03m# SSLSocket class handles server_hostname encoding before it calls\u001b[39;00m\n\u001b[1;32m    512\u001b[0m     \u001b[38;5;66;03m# ctx._wrap_socket()\u001b[39;00m\n\u001b[0;32m--> 513\u001b[0m     \u001b[38;5;28;01mreturn\u001b[39;00m \u001b[38;5;28;43mself\u001b[39;49m\u001b[38;5;241;43m.\u001b[39;49m\u001b[43msslsocket_class\u001b[49m\u001b[38;5;241;43m.\u001b[39;49m\u001b[43m_create\u001b[49m\u001b[43m(\u001b[49m\n\u001b[1;32m    514\u001b[0m \u001b[43m        \u001b[49m\u001b[43msock\u001b[49m\u001b[38;5;241;43m=\u001b[39;49m\u001b[43msock\u001b[49m\u001b[43m,\u001b[49m\n\u001b[1;32m    515\u001b[0m \u001b[43m        \u001b[49m\u001b[43mserver_side\u001b[49m\u001b[38;5;241;43m=\u001b[39;49m\u001b[43mserver_side\u001b[49m\u001b[43m,\u001b[49m\n\u001b[1;32m    516\u001b[0m \u001b[43m        \u001b[49m\u001b[43mdo_handshake_on_connect\u001b[49m\u001b[38;5;241;43m=\u001b[39;49m\u001b[43mdo_handshake_on_connect\u001b[49m\u001b[43m,\u001b[49m\n\u001b[1;32m    517\u001b[0m \u001b[43m        \u001b[49m\u001b[43msuppress_ragged_eofs\u001b[49m\u001b[38;5;241;43m=\u001b[39;49m\u001b[43msuppress_ragged_eofs\u001b[49m\u001b[43m,\u001b[49m\n\u001b[1;32m    518\u001b[0m \u001b[43m        \u001b[49m\u001b[43mserver_hostname\u001b[49m\u001b[38;5;241;43m=\u001b[39;49m\u001b[43mserver_hostname\u001b[49m\u001b[43m,\u001b[49m\n\u001b[1;32m    519\u001b[0m \u001b[43m        \u001b[49m\u001b[43mcontext\u001b[49m\u001b[38;5;241;43m=\u001b[39;49m\u001b[38;5;28;43mself\u001b[39;49m\u001b[43m,\u001b[49m\n\u001b[1;32m    520\u001b[0m \u001b[43m        \u001b[49m\u001b[43msession\u001b[49m\u001b[38;5;241;43m=\u001b[39;49m\u001b[43msession\u001b[49m\n\u001b[1;32m    521\u001b[0m \u001b[43m    \u001b[49m\u001b[43m)\u001b[49m\n",
      "File \u001b[0;32m~/mauricio_PROGRAMAS/anaconda3/envs/py39/lib/python3.10/ssl.py:1071\u001b[0m, in \u001b[0;36mSSLSocket._create\u001b[0;34m(cls, sock, server_side, do_handshake_on_connect, suppress_ragged_eofs, server_hostname, context, session)\u001b[0m\n\u001b[1;32m   1070\u001b[0m             \u001b[38;5;28;01mraise\u001b[39;00m \u001b[38;5;167;01mValueError\u001b[39;00m(\u001b[38;5;124m\"\u001b[39m\u001b[38;5;124mdo_handshake_on_connect should not be specified for non-blocking sockets\u001b[39m\u001b[38;5;124m\"\u001b[39m)\n\u001b[0;32m-> 1071\u001b[0m         \u001b[38;5;28;43mself\u001b[39;49m\u001b[38;5;241;43m.\u001b[39;49m\u001b[43mdo_handshake\u001b[49m\u001b[43m(\u001b[49m\u001b[43m)\u001b[49m\n\u001b[1;32m   1072\u001b[0m \u001b[38;5;28;01mexcept\u001b[39;00m (\u001b[38;5;167;01mOSError\u001b[39;00m, \u001b[38;5;167;01mValueError\u001b[39;00m):\n",
      "File \u001b[0;32m~/mauricio_PROGRAMAS/anaconda3/envs/py39/lib/python3.10/ssl.py:1342\u001b[0m, in \u001b[0;36mSSLSocket.do_handshake\u001b[0;34m(self, block)\u001b[0m\n\u001b[1;32m   1341\u001b[0m         \u001b[38;5;28mself\u001b[39m\u001b[38;5;241m.\u001b[39msettimeout(\u001b[38;5;28;01mNone\u001b[39;00m)\n\u001b[0;32m-> 1342\u001b[0m     \u001b[38;5;28;43mself\u001b[39;49m\u001b[38;5;241;43m.\u001b[39;49m\u001b[43m_sslobj\u001b[49m\u001b[38;5;241;43m.\u001b[39;49m\u001b[43mdo_handshake\u001b[49m\u001b[43m(\u001b[49m\u001b[43m)\u001b[49m\n\u001b[1;32m   1343\u001b[0m \u001b[38;5;28;01mfinally\u001b[39;00m:\n",
      "\u001b[0;31mSSLCertVerificationError\u001b[0m: [SSL: CERTIFICATE_VERIFY_FAILED] certificate verify failed: certificate is not yet valid (_ssl.c:997)",
      "\nDuring handling of the above exception, another exception occurred:\n",
      "\u001b[0;31mMaxRetryError\u001b[0m                             Traceback (most recent call last)",
      "File \u001b[0;32m~/mauricio_PROGRAMAS/anaconda3/envs/py39/lib/python3.10/site-packages/requests/adapters.py:489\u001b[0m, in \u001b[0;36mHTTPAdapter.send\u001b[0;34m(self, request, stream, timeout, verify, cert, proxies)\u001b[0m\n\u001b[1;32m    488\u001b[0m \u001b[38;5;28;01mif\u001b[39;00m \u001b[38;5;129;01mnot\u001b[39;00m chunked:\n\u001b[0;32m--> 489\u001b[0m     resp \u001b[38;5;241m=\u001b[39m \u001b[43mconn\u001b[49m\u001b[38;5;241;43m.\u001b[39;49m\u001b[43murlopen\u001b[49m\u001b[43m(\u001b[49m\n\u001b[1;32m    490\u001b[0m \u001b[43m        \u001b[49m\u001b[43mmethod\u001b[49m\u001b[38;5;241;43m=\u001b[39;49m\u001b[43mrequest\u001b[49m\u001b[38;5;241;43m.\u001b[39;49m\u001b[43mmethod\u001b[49m\u001b[43m,\u001b[49m\n\u001b[1;32m    491\u001b[0m \u001b[43m        \u001b[49m\u001b[43murl\u001b[49m\u001b[38;5;241;43m=\u001b[39;49m\u001b[43murl\u001b[49m\u001b[43m,\u001b[49m\n\u001b[1;32m    492\u001b[0m \u001b[43m        \u001b[49m\u001b[43mbody\u001b[49m\u001b[38;5;241;43m=\u001b[39;49m\u001b[43mrequest\u001b[49m\u001b[38;5;241;43m.\u001b[39;49m\u001b[43mbody\u001b[49m\u001b[43m,\u001b[49m\n\u001b[1;32m    493\u001b[0m \u001b[43m        \u001b[49m\u001b[43mheaders\u001b[49m\u001b[38;5;241;43m=\u001b[39;49m\u001b[43mrequest\u001b[49m\u001b[38;5;241;43m.\u001b[39;49m\u001b[43mheaders\u001b[49m\u001b[43m,\u001b[49m\n\u001b[1;32m    494\u001b[0m \u001b[43m        \u001b[49m\u001b[43mredirect\u001b[49m\u001b[38;5;241;43m=\u001b[39;49m\u001b[38;5;28;43;01mFalse\u001b[39;49;00m\u001b[43m,\u001b[49m\n\u001b[1;32m    495\u001b[0m \u001b[43m        \u001b[49m\u001b[43massert_same_host\u001b[49m\u001b[38;5;241;43m=\u001b[39;49m\u001b[38;5;28;43;01mFalse\u001b[39;49;00m\u001b[43m,\u001b[49m\n\u001b[1;32m    496\u001b[0m \u001b[43m        \u001b[49m\u001b[43mpreload_content\u001b[49m\u001b[38;5;241;43m=\u001b[39;49m\u001b[38;5;28;43;01mFalse\u001b[39;49;00m\u001b[43m,\u001b[49m\n\u001b[1;32m    497\u001b[0m \u001b[43m        \u001b[49m\u001b[43mdecode_content\u001b[49m\u001b[38;5;241;43m=\u001b[39;49m\u001b[38;5;28;43;01mFalse\u001b[39;49;00m\u001b[43m,\u001b[49m\n\u001b[1;32m    498\u001b[0m \u001b[43m        \u001b[49m\u001b[43mretries\u001b[49m\u001b[38;5;241;43m=\u001b[39;49m\u001b[38;5;28;43mself\u001b[39;49m\u001b[38;5;241;43m.\u001b[39;49m\u001b[43mmax_retries\u001b[49m\u001b[43m,\u001b[49m\n\u001b[1;32m    499\u001b[0m \u001b[43m        \u001b[49m\u001b[43mtimeout\u001b[49m\u001b[38;5;241;43m=\u001b[39;49m\u001b[43mtimeout\u001b[49m\u001b[43m,\u001b[49m\n\u001b[1;32m    500\u001b[0m \u001b[43m    \u001b[49m\u001b[43m)\u001b[49m\n\u001b[1;32m    502\u001b[0m \u001b[38;5;66;03m# Send the request.\u001b[39;00m\n\u001b[1;32m    503\u001b[0m \u001b[38;5;28;01melse\u001b[39;00m:\n",
      "File \u001b[0;32m~/mauricio_PROGRAMAS/anaconda3/envs/py39/lib/python3.10/site-packages/urllib3/connectionpool.py:787\u001b[0m, in \u001b[0;36mHTTPConnectionPool.urlopen\u001b[0;34m(self, method, url, body, headers, retries, redirect, assert_same_host, timeout, pool_timeout, release_conn, chunked, body_pos, **response_kw)\u001b[0m\n\u001b[1;32m    785\u001b[0m     e \u001b[38;5;241m=\u001b[39m ProtocolError(\u001b[38;5;124m\"\u001b[39m\u001b[38;5;124mConnection aborted.\u001b[39m\u001b[38;5;124m\"\u001b[39m, e)\n\u001b[0;32m--> 787\u001b[0m retries \u001b[38;5;241m=\u001b[39m \u001b[43mretries\u001b[49m\u001b[38;5;241;43m.\u001b[39;49m\u001b[43mincrement\u001b[49m\u001b[43m(\u001b[49m\n\u001b[1;32m    788\u001b[0m \u001b[43m    \u001b[49m\u001b[43mmethod\u001b[49m\u001b[43m,\u001b[49m\u001b[43m \u001b[49m\u001b[43murl\u001b[49m\u001b[43m,\u001b[49m\u001b[43m \u001b[49m\u001b[43merror\u001b[49m\u001b[38;5;241;43m=\u001b[39;49m\u001b[43me\u001b[49m\u001b[43m,\u001b[49m\u001b[43m \u001b[49m\u001b[43m_pool\u001b[49m\u001b[38;5;241;43m=\u001b[39;49m\u001b[38;5;28;43mself\u001b[39;49m\u001b[43m,\u001b[49m\u001b[43m \u001b[49m\u001b[43m_stacktrace\u001b[49m\u001b[38;5;241;43m=\u001b[39;49m\u001b[43msys\u001b[49m\u001b[38;5;241;43m.\u001b[39;49m\u001b[43mexc_info\u001b[49m\u001b[43m(\u001b[49m\u001b[43m)\u001b[49m\u001b[43m[\u001b[49m\u001b[38;5;241;43m2\u001b[39;49m\u001b[43m]\u001b[49m\n\u001b[1;32m    789\u001b[0m \u001b[43m\u001b[49m\u001b[43m)\u001b[49m\n\u001b[1;32m    790\u001b[0m retries\u001b[38;5;241m.\u001b[39msleep()\n",
      "File \u001b[0;32m~/mauricio_PROGRAMAS/anaconda3/envs/py39/lib/python3.10/site-packages/urllib3/util/retry.py:592\u001b[0m, in \u001b[0;36mRetry.increment\u001b[0;34m(self, method, url, response, error, _pool, _stacktrace)\u001b[0m\n\u001b[1;32m    591\u001b[0m \u001b[38;5;28;01mif\u001b[39;00m new_retry\u001b[38;5;241m.\u001b[39mis_exhausted():\n\u001b[0;32m--> 592\u001b[0m     \u001b[38;5;28;01mraise\u001b[39;00m MaxRetryError(_pool, url, error \u001b[38;5;129;01mor\u001b[39;00m ResponseError(cause))\n\u001b[1;32m    594\u001b[0m log\u001b[38;5;241m.\u001b[39mdebug(\u001b[38;5;124m\"\u001b[39m\u001b[38;5;124mIncremented Retry for (url=\u001b[39m\u001b[38;5;124m'\u001b[39m\u001b[38;5;132;01m%s\u001b[39;00m\u001b[38;5;124m'\u001b[39m\u001b[38;5;124m): \u001b[39m\u001b[38;5;132;01m%r\u001b[39;00m\u001b[38;5;124m\"\u001b[39m, url, new_retry)\n",
      "\u001b[0;31mMaxRetryError\u001b[0m: HTTPSConnectionPool(host='parasite.wormbase.org', port=443): Max retries exceeded with url: /rest-18/info/quality/atriophallophorus_winterbourni_prjna636673 (Caused by SSLError(SSLCertVerificationError(1, '[SSL: CERTIFICATE_VERIFY_FAILED] certificate verify failed: certificate is not yet valid (_ssl.c:997)')))",
      "\nDuring handling of the above exception, another exception occurred:\n",
      "\u001b[0;31mSSLError\u001b[0m                                  Traceback (most recent call last)",
      "Input \u001b[0;32mIn [4]\u001b[0m, in \u001b[0;36m<cell line: 23>\u001b[0;34m()\u001b[0m\n\u001b[1;32m     20\u001b[0m     \u001b[38;5;28;01mreturn\u001b[39;00m row\n\u001b[1;32m     22\u001b[0m \u001b[38;5;66;03m# Apply the function to each row of the DataFrame\u001b[39;00m\n\u001b[0;32m---> 23\u001b[0m wbps_genome_data \u001b[38;5;241m=\u001b[39m \u001b[43mwbps_genome_data\u001b[49m\u001b[38;5;241;43m.\u001b[39;49m\u001b[43mapply\u001b[49m\u001b[43m(\u001b[49m\u001b[43mfetch_api_data\u001b[49m\u001b[43m,\u001b[49m\u001b[43m \u001b[49m\u001b[43maxis\u001b[49m\u001b[38;5;241;43m=\u001b[39;49m\u001b[38;5;241;43m1\u001b[39;49m\u001b[43m)\u001b[49m\n",
      "File \u001b[0;32m~/mauricio_PROGRAMAS/anaconda3/envs/py39/lib/python3.10/site-packages/pandas/core/frame.py:8848\u001b[0m, in \u001b[0;36mDataFrame.apply\u001b[0;34m(self, func, axis, raw, result_type, args, **kwargs)\u001b[0m\n\u001b[1;32m   8837\u001b[0m \u001b[38;5;28;01mfrom\u001b[39;00m \u001b[38;5;21;01mpandas\u001b[39;00m\u001b[38;5;21;01m.\u001b[39;00m\u001b[38;5;21;01mcore\u001b[39;00m\u001b[38;5;21;01m.\u001b[39;00m\u001b[38;5;21;01mapply\u001b[39;00m \u001b[38;5;28;01mimport\u001b[39;00m frame_apply\n\u001b[1;32m   8839\u001b[0m op \u001b[38;5;241m=\u001b[39m frame_apply(\n\u001b[1;32m   8840\u001b[0m     \u001b[38;5;28mself\u001b[39m,\n\u001b[1;32m   8841\u001b[0m     func\u001b[38;5;241m=\u001b[39mfunc,\n\u001b[0;32m   (...)\u001b[0m\n\u001b[1;32m   8846\u001b[0m     kwargs\u001b[38;5;241m=\u001b[39mkwargs,\n\u001b[1;32m   8847\u001b[0m )\n\u001b[0;32m-> 8848\u001b[0m \u001b[38;5;28;01mreturn\u001b[39;00m \u001b[43mop\u001b[49m\u001b[38;5;241;43m.\u001b[39;49m\u001b[43mapply\u001b[49m\u001b[43m(\u001b[49m\u001b[43m)\u001b[49m\u001b[38;5;241m.\u001b[39m__finalize__(\u001b[38;5;28mself\u001b[39m, method\u001b[38;5;241m=\u001b[39m\u001b[38;5;124m\"\u001b[39m\u001b[38;5;124mapply\u001b[39m\u001b[38;5;124m\"\u001b[39m)\n",
      "File \u001b[0;32m~/mauricio_PROGRAMAS/anaconda3/envs/py39/lib/python3.10/site-packages/pandas/core/apply.py:733\u001b[0m, in \u001b[0;36mFrameApply.apply\u001b[0;34m(self)\u001b[0m\n\u001b[1;32m    730\u001b[0m \u001b[38;5;28;01melif\u001b[39;00m \u001b[38;5;28mself\u001b[39m\u001b[38;5;241m.\u001b[39mraw:\n\u001b[1;32m    731\u001b[0m     \u001b[38;5;28;01mreturn\u001b[39;00m \u001b[38;5;28mself\u001b[39m\u001b[38;5;241m.\u001b[39mapply_raw()\n\u001b[0;32m--> 733\u001b[0m \u001b[38;5;28;01mreturn\u001b[39;00m \u001b[38;5;28;43mself\u001b[39;49m\u001b[38;5;241;43m.\u001b[39;49m\u001b[43mapply_standard\u001b[49m\u001b[43m(\u001b[49m\u001b[43m)\u001b[49m\n",
      "File \u001b[0;32m~/mauricio_PROGRAMAS/anaconda3/envs/py39/lib/python3.10/site-packages/pandas/core/apply.py:857\u001b[0m, in \u001b[0;36mFrameApply.apply_standard\u001b[0;34m(self)\u001b[0m\n\u001b[1;32m    856\u001b[0m \u001b[38;5;28;01mdef\u001b[39;00m \u001b[38;5;21mapply_standard\u001b[39m(\u001b[38;5;28mself\u001b[39m):\n\u001b[0;32m--> 857\u001b[0m     results, res_index \u001b[38;5;241m=\u001b[39m \u001b[38;5;28;43mself\u001b[39;49m\u001b[38;5;241;43m.\u001b[39;49m\u001b[43mapply_series_generator\u001b[49m\u001b[43m(\u001b[49m\u001b[43m)\u001b[49m\n\u001b[1;32m    859\u001b[0m     \u001b[38;5;66;03m# wrap results\u001b[39;00m\n\u001b[1;32m    860\u001b[0m     \u001b[38;5;28;01mreturn\u001b[39;00m \u001b[38;5;28mself\u001b[39m\u001b[38;5;241m.\u001b[39mwrap_results(results, res_index)\n",
      "File \u001b[0;32m~/mauricio_PROGRAMAS/anaconda3/envs/py39/lib/python3.10/site-packages/pandas/core/apply.py:873\u001b[0m, in \u001b[0;36mFrameApply.apply_series_generator\u001b[0;34m(self)\u001b[0m\n\u001b[1;32m    870\u001b[0m \u001b[38;5;28;01mwith\u001b[39;00m option_context(\u001b[38;5;124m\"\u001b[39m\u001b[38;5;124mmode.chained_assignment\u001b[39m\u001b[38;5;124m\"\u001b[39m, \u001b[38;5;28;01mNone\u001b[39;00m):\n\u001b[1;32m    871\u001b[0m     \u001b[38;5;28;01mfor\u001b[39;00m i, v \u001b[38;5;129;01min\u001b[39;00m \u001b[38;5;28menumerate\u001b[39m(series_gen):\n\u001b[1;32m    872\u001b[0m         \u001b[38;5;66;03m# ignore SettingWithCopy here in case the user mutates\u001b[39;00m\n\u001b[0;32m--> 873\u001b[0m         results[i] \u001b[38;5;241m=\u001b[39m \u001b[38;5;28;43mself\u001b[39;49m\u001b[38;5;241;43m.\u001b[39;49m\u001b[43mf\u001b[49m\u001b[43m(\u001b[49m\u001b[43mv\u001b[49m\u001b[43m)\u001b[49m\n\u001b[1;32m    874\u001b[0m         \u001b[38;5;28;01mif\u001b[39;00m \u001b[38;5;28misinstance\u001b[39m(results[i], ABCSeries):\n\u001b[1;32m    875\u001b[0m             \u001b[38;5;66;03m# If we have a view on v, we need to make a copy because\u001b[39;00m\n\u001b[1;32m    876\u001b[0m             \u001b[38;5;66;03m#  series_generator will swap out the underlying data\u001b[39;00m\n\u001b[1;32m    877\u001b[0m             results[i] \u001b[38;5;241m=\u001b[39m results[i]\u001b[38;5;241m.\u001b[39mcopy(deep\u001b[38;5;241m=\u001b[39m\u001b[38;5;28;01mFalse\u001b[39;00m)\n",
      "Input \u001b[0;32mIn [4]\u001b[0m, in \u001b[0;36mfetch_api_data\u001b[0;34m(row)\u001b[0m\n\u001b[1;32m      8\u001b[0m url \u001b[38;5;241m=\u001b[39m \u001b[38;5;124mf\u001b[39m\u001b[38;5;124m'\u001b[39m\u001b[38;5;124mhttps://parasite.wormbase.org/rest-18/info/quality/\u001b[39m\u001b[38;5;132;01m{\u001b[39;00mspecies_code\u001b[38;5;132;01m}\u001b[39;00m\u001b[38;5;124m?\u001b[39m\u001b[38;5;124m'\u001b[39m\n\u001b[1;32m      9\u001b[0m headers \u001b[38;5;241m=\u001b[39m {\u001b[38;5;124m'\u001b[39m\u001b[38;5;124mContent-type\u001b[39m\u001b[38;5;124m'\u001b[39m: \u001b[38;5;124m'\u001b[39m\u001b[38;5;124mapplication/json\u001b[39m\u001b[38;5;124m'\u001b[39m}\n\u001b[0;32m---> 10\u001b[0m response \u001b[38;5;241m=\u001b[39m \u001b[43mrequests\u001b[49m\u001b[38;5;241;43m.\u001b[39;49m\u001b[43mget\u001b[49m\u001b[43m(\u001b[49m\u001b[43murl\u001b[49m\u001b[43m,\u001b[49m\u001b[43m \u001b[49m\u001b[43mheaders\u001b[49m\u001b[38;5;241;43m=\u001b[39;49m\u001b[43mheaders\u001b[49m\u001b[43m)\u001b[49m\n\u001b[1;32m     11\u001b[0m \u001b[38;5;28;01mif\u001b[39;00m response\u001b[38;5;241m.\u001b[39mstatus_code \u001b[38;5;241m==\u001b[39m \u001b[38;5;241m200\u001b[39m:\n\u001b[1;32m     12\u001b[0m     data \u001b[38;5;241m=\u001b[39m response\u001b[38;5;241m.\u001b[39mjson()\n",
      "File \u001b[0;32m~/mauricio_PROGRAMAS/anaconda3/envs/py39/lib/python3.10/site-packages/requests/api.py:73\u001b[0m, in \u001b[0;36mget\u001b[0;34m(url, params, **kwargs)\u001b[0m\n\u001b[1;32m     62\u001b[0m \u001b[38;5;28;01mdef\u001b[39;00m \u001b[38;5;21mget\u001b[39m(url, params\u001b[38;5;241m=\u001b[39m\u001b[38;5;28;01mNone\u001b[39;00m, \u001b[38;5;241m*\u001b[39m\u001b[38;5;241m*\u001b[39mkwargs):\n\u001b[1;32m     63\u001b[0m     \u001b[38;5;124mr\u001b[39m\u001b[38;5;124;03m\"\"\"Sends a GET request.\u001b[39;00m\n\u001b[1;32m     64\u001b[0m \n\u001b[1;32m     65\u001b[0m \u001b[38;5;124;03m    :param url: URL for the new :class:`Request` object.\u001b[39;00m\n\u001b[0;32m   (...)\u001b[0m\n\u001b[1;32m     70\u001b[0m \u001b[38;5;124;03m    :rtype: requests.Response\u001b[39;00m\n\u001b[1;32m     71\u001b[0m \u001b[38;5;124;03m    \"\"\"\u001b[39;00m\n\u001b[0;32m---> 73\u001b[0m     \u001b[38;5;28;01mreturn\u001b[39;00m \u001b[43mrequest\u001b[49m\u001b[43m(\u001b[49m\u001b[38;5;124;43m\"\u001b[39;49m\u001b[38;5;124;43mget\u001b[39;49m\u001b[38;5;124;43m\"\u001b[39;49m\u001b[43m,\u001b[49m\u001b[43m \u001b[49m\u001b[43murl\u001b[49m\u001b[43m,\u001b[49m\u001b[43m \u001b[49m\u001b[43mparams\u001b[49m\u001b[38;5;241;43m=\u001b[39;49m\u001b[43mparams\u001b[49m\u001b[43m,\u001b[49m\u001b[43m \u001b[49m\u001b[38;5;241;43m*\u001b[39;49m\u001b[38;5;241;43m*\u001b[39;49m\u001b[43mkwargs\u001b[49m\u001b[43m)\u001b[49m\n",
      "File \u001b[0;32m~/mauricio_PROGRAMAS/anaconda3/envs/py39/lib/python3.10/site-packages/requests/api.py:59\u001b[0m, in \u001b[0;36mrequest\u001b[0;34m(method, url, **kwargs)\u001b[0m\n\u001b[1;32m     55\u001b[0m \u001b[38;5;66;03m# By using the 'with' statement we are sure the session is closed, thus we\u001b[39;00m\n\u001b[1;32m     56\u001b[0m \u001b[38;5;66;03m# avoid leaving sockets open which can trigger a ResourceWarning in some\u001b[39;00m\n\u001b[1;32m     57\u001b[0m \u001b[38;5;66;03m# cases, and look like a memory leak in others.\u001b[39;00m\n\u001b[1;32m     58\u001b[0m \u001b[38;5;28;01mwith\u001b[39;00m sessions\u001b[38;5;241m.\u001b[39mSession() \u001b[38;5;28;01mas\u001b[39;00m session:\n\u001b[0;32m---> 59\u001b[0m     \u001b[38;5;28;01mreturn\u001b[39;00m \u001b[43msession\u001b[49m\u001b[38;5;241;43m.\u001b[39;49m\u001b[43mrequest\u001b[49m\u001b[43m(\u001b[49m\u001b[43mmethod\u001b[49m\u001b[38;5;241;43m=\u001b[39;49m\u001b[43mmethod\u001b[49m\u001b[43m,\u001b[49m\u001b[43m \u001b[49m\u001b[43murl\u001b[49m\u001b[38;5;241;43m=\u001b[39;49m\u001b[43murl\u001b[49m\u001b[43m,\u001b[49m\u001b[43m \u001b[49m\u001b[38;5;241;43m*\u001b[39;49m\u001b[38;5;241;43m*\u001b[39;49m\u001b[43mkwargs\u001b[49m\u001b[43m)\u001b[49m\n",
      "File \u001b[0;32m~/mauricio_PROGRAMAS/anaconda3/envs/py39/lib/python3.10/site-packages/requests/sessions.py:587\u001b[0m, in \u001b[0;36mSession.request\u001b[0;34m(self, method, url, params, data, headers, cookies, files, auth, timeout, allow_redirects, proxies, hooks, stream, verify, cert, json)\u001b[0m\n\u001b[1;32m    582\u001b[0m send_kwargs \u001b[38;5;241m=\u001b[39m {\n\u001b[1;32m    583\u001b[0m     \u001b[38;5;124m\"\u001b[39m\u001b[38;5;124mtimeout\u001b[39m\u001b[38;5;124m\"\u001b[39m: timeout,\n\u001b[1;32m    584\u001b[0m     \u001b[38;5;124m\"\u001b[39m\u001b[38;5;124mallow_redirects\u001b[39m\u001b[38;5;124m\"\u001b[39m: allow_redirects,\n\u001b[1;32m    585\u001b[0m }\n\u001b[1;32m    586\u001b[0m send_kwargs\u001b[38;5;241m.\u001b[39mupdate(settings)\n\u001b[0;32m--> 587\u001b[0m resp \u001b[38;5;241m=\u001b[39m \u001b[38;5;28;43mself\u001b[39;49m\u001b[38;5;241;43m.\u001b[39;49m\u001b[43msend\u001b[49m\u001b[43m(\u001b[49m\u001b[43mprep\u001b[49m\u001b[43m,\u001b[49m\u001b[43m \u001b[49m\u001b[38;5;241;43m*\u001b[39;49m\u001b[38;5;241;43m*\u001b[39;49m\u001b[43msend_kwargs\u001b[49m\u001b[43m)\u001b[49m\n\u001b[1;32m    589\u001b[0m \u001b[38;5;28;01mreturn\u001b[39;00m resp\n",
      "File \u001b[0;32m~/mauricio_PROGRAMAS/anaconda3/envs/py39/lib/python3.10/site-packages/requests/sessions.py:701\u001b[0m, in \u001b[0;36mSession.send\u001b[0;34m(self, request, **kwargs)\u001b[0m\n\u001b[1;32m    698\u001b[0m start \u001b[38;5;241m=\u001b[39m preferred_clock()\n\u001b[1;32m    700\u001b[0m \u001b[38;5;66;03m# Send the request\u001b[39;00m\n\u001b[0;32m--> 701\u001b[0m r \u001b[38;5;241m=\u001b[39m \u001b[43madapter\u001b[49m\u001b[38;5;241;43m.\u001b[39;49m\u001b[43msend\u001b[49m\u001b[43m(\u001b[49m\u001b[43mrequest\u001b[49m\u001b[43m,\u001b[49m\u001b[43m \u001b[49m\u001b[38;5;241;43m*\u001b[39;49m\u001b[38;5;241;43m*\u001b[39;49m\u001b[43mkwargs\u001b[49m\u001b[43m)\u001b[49m\n\u001b[1;32m    703\u001b[0m \u001b[38;5;66;03m# Total elapsed time of the request (approximately)\u001b[39;00m\n\u001b[1;32m    704\u001b[0m elapsed \u001b[38;5;241m=\u001b[39m preferred_clock() \u001b[38;5;241m-\u001b[39m start\n",
      "File \u001b[0;32m~/mauricio_PROGRAMAS/anaconda3/envs/py39/lib/python3.10/site-packages/requests/adapters.py:563\u001b[0m, in \u001b[0;36mHTTPAdapter.send\u001b[0;34m(self, request, stream, timeout, verify, cert, proxies)\u001b[0m\n\u001b[1;32m    559\u001b[0m         \u001b[38;5;28;01mraise\u001b[39;00m ProxyError(e, request\u001b[38;5;241m=\u001b[39mrequest)\n\u001b[1;32m    561\u001b[0m     \u001b[38;5;28;01mif\u001b[39;00m \u001b[38;5;28misinstance\u001b[39m(e\u001b[38;5;241m.\u001b[39mreason, _SSLError):\n\u001b[1;32m    562\u001b[0m         \u001b[38;5;66;03m# This branch is for urllib3 v1.22 and later.\u001b[39;00m\n\u001b[0;32m--> 563\u001b[0m         \u001b[38;5;28;01mraise\u001b[39;00m SSLError(e, request\u001b[38;5;241m=\u001b[39mrequest)\n\u001b[1;32m    565\u001b[0m     \u001b[38;5;28;01mraise\u001b[39;00m \u001b[38;5;167;01mConnectionError\u001b[39;00m(e, request\u001b[38;5;241m=\u001b[39mrequest)\n\u001b[1;32m    567\u001b[0m \u001b[38;5;28;01mexcept\u001b[39;00m ClosedPoolError \u001b[38;5;28;01mas\u001b[39;00m e:\n",
      "\u001b[0;31mSSLError\u001b[0m: HTTPSConnectionPool(host='parasite.wormbase.org', port=443): Max retries exceeded with url: /rest-18/info/quality/atriophallophorus_winterbourni_prjna636673 (Caused by SSLError(SSLCertVerificationError(1, '[SSL: CERTIFICATE_VERIFY_FAILED] certificate verify failed: certificate is not yet valid (_ssl.c:997)')))"
     ]
    }
   ],
   "source": [
    "import requests\n",
    "\n",
    "# Assuming df is your pandas DataFrame containing the table data\n",
    "\n",
    "# Function to fetch data from the API and update the DataFrame\n",
    "def fetch_api_data(row):\n",
    "    species_code = row['species_code']\n",
    "    url = f'https://parasite.wormbase.org/rest-18/info/quality/{species_code}?'\n",
    "    headers = {'Content-type': 'application/json'}\n",
    "    response = requests.get(url, headers=headers)\n",
    "    if response.status_code == 200:\n",
    "        data = response.json()\n",
    "        for key, value in data.items():\n",
    "            for subkey, subvalue in value.items():\n",
    "                column_name = f'{key}_{subkey}'\n",
    "                row[column_name] = subvalue\n",
    "    else:\n",
    "        print(f\"Failed to fetch data for species code: {species_code}\")\n",
    "\n",
    "    return row\n",
    "\n",
    "# Apply the function to each row of the DataFrame\n",
    "wbps_genome_data = wbps_genome_data.apply(fetch_api_data, axis=1)"
   ]
  },
  {
   "cell_type": "markdown",
   "metadata": {},
   "source": [
    "# Seeing distribution of N50 and BUSCO"
   ]
  },
  {
   "cell_type": "code",
   "execution_count": null,
   "metadata": {},
   "outputs": [],
   "source": [
    "g = sns.FacetGrid(df, col='Clade', col_wrap=3, hue='Clade', sharex=False, sharey=False)\n",
    "g.map(sns.scatterplot, 'N50', 'Number of Coding Genes', alpha=0.7)\n",
    "g.set_axis_labels('N50', 'Number of Coding Genes')\n",
    "g.set_titles('{col_name}')\n",
    "\n",
    "# Adjust x-axis ticks\n",
    "for ax in g.axes.flat:\n",
    "    ax.tick_params(axis='x', rotation=45)\n",
    "\n",
    "plt.tight_layout()\n",
    "plt.show()"
   ]
  },
  {
   "cell_type": "code",
   "execution_count": null,
   "metadata": {},
   "outputs": [],
   "source": [
    "# esto quedo en un codigo interno... se decidio que quedara en 4.5kb"
   ]
  },
  {
   "cell_type": "markdown",
   "metadata": {},
   "source": [
    "# Filter to decide final set\n",
    "- Listing species employed in the analysis\n",
    "- Filtering the table..."
   ]
  },
  {
   "cell_type": "code",
   "execution_count": 6,
   "metadata": {},
   "outputs": [],
   "source": [
    "import glob\n",
    "former_species = [x.rpartition('/')[2].split('.')[0] for x in glob.glob('../data/platyhelminthes_dataset/*') if 'GCF' not in x and 'README' not in x]"
   ]
  },
  {
   "cell_type": "code",
   "execution_count": 20,
   "metadata": {},
   "outputs": [],
   "source": [
    "former_species = [x.rpartition('_')[0] if x.count('_') > 1 else x for x in former_species]"
   ]
  },
  {
   "cell_type": "code",
   "execution_count": 10,
   "metadata": {},
   "outputs": [],
   "source": [
    "targets = ['clonorchis_sinensis_PRJDA72781',\n",
    " 'clonorchis_sinensis_PRJNA386618',\n",
    " 'echinococcus_canadensis_PRJEB8992',\n",
    " 'echinococcus_granulosus_PRJEB121',\n",
    " 'echinococcus_granulosus_PRJNA182977',\n",
    " 'echinococcus_multilocularis_PRJEB122',\n",
    " 'fasciola_hepatica_PRJEB25283',\n",
    " 'fasciola_hepatica_PRJNA179522',\n",
    " 'gyrodactylus_bullatarudis_PRJNA532341',\n",
    " 'gyrodactylus_salaris_PRJNA244375',\n",
    " 'hymenolepis_diminuta_PRJEB30942',\n",
    " 'hymenolepis_diminuta_PRJEB507',\n",
    " 'hymenolepis_microstoma_PRJEB124',\n",
    " 'hymenolepis_nana_PRJEB508',\n",
    " 'macrostomum_lignano_PRJNA284736',\n",
    " 'macrostomum_lignano_PRJNA371498',\n",
    " 'mesocestoides_corti_PRJEB510',\n",
    " 'opisthorchis_felineus_PRJNA413383',\n",
    " 'opisthorchis_viverrini_PRJNA222628',\n",
    " 'paragonimus_westermani_PRJNA454344',\n",
    " 'schistosoma_bovis_PRJNA451066',\n",
    " 'schistosoma_curassoni_PRJEB44434',\n",
    " 'schistosoma_guineensis_PRJEB44434',\n",
    " 'schistosoma_haematobium_PRJNA78265',\n",
    " 'schistosoma_japonicum_PRJNA520774',\n",
    " 'schistosoma_mansoni_PRJEA36577',\n",
    " 'schistosoma_margrebowiei_PRJEB44434',\n",
    " 'schistosoma_mattheei_PRJEB44434',\n",
    " 'schistosoma_spindale_PRJEB44434',\n",
    " 'schistosoma_turkestanicum_PRJEB44434',\n",
    " 'schmidtea_mediterranea_PRJNA12585',\n",
    " 'taenia_asiatica_PRJEB532',\n",
    " 'taenia_asiatica_PRJNA299871',\n",
    " 'taenia_multiceps_PRJNA307624',\n",
    " 'taenia_saginata_PRJNA71493',\n",
    " 'taenia_solium_PRJNA170813',\n",
    " 'trichobilharzia_regenti_PRJEB44434',\n",
    " 'trichobilharzia_szidati_PRJEB44434']"
   ]
  },
  {
   "cell_type": "code",
   "execution_count": 15,
   "metadata": {},
   "outputs": [],
   "source": [
    "targets_clean = list(set([x.rpartition('_')[0] for x in targets]))"
   ]
  },
  {
   "cell_type": "code",
   "execution_count": 23,
   "metadata": {},
   "outputs": [],
   "source": [
    "final_set = set(targets_clean).intersection(set(former_species))"
   ]
  },
  {
   "cell_type": "code",
   "execution_count": 24,
   "metadata": {},
   "outputs": [
    {
     "data": {
      "text/plain": [
       "{'clonorchis_sinensis',\n",
       " 'echinococcus_canadensis',\n",
       " 'echinococcus_granulosus',\n",
       " 'echinococcus_multilocularis',\n",
       " 'fasciola_hepatica',\n",
       " 'gyrodactylus_salaris',\n",
       " 'hymenolepis_diminuta',\n",
       " 'hymenolepis_microstoma',\n",
       " 'hymenolepis_nana',\n",
       " 'macrostomum_lignano',\n",
       " 'mesocestoides_corti',\n",
       " 'opisthorchis_viverrini',\n",
       " 'schistosoma_curassoni',\n",
       " 'schistosoma_haematobium',\n",
       " 'schistosoma_japonicum',\n",
       " 'schistosoma_mansoni',\n",
       " 'schistosoma_margrebowiei',\n",
       " 'schistosoma_mattheei',\n",
       " 'schmidtea_mediterranea',\n",
       " 'taenia_asiatica',\n",
       " 'taenia_saginata',\n",
       " 'taenia_solium',\n",
       " 'trichobilharzia_regenti'}"
      ]
     },
     "execution_count": 24,
     "metadata": {},
     "output_type": "execute_result"
    }
   ],
   "source": [
    "final_set"
   ]
  },
  {
   "cell_type": "code",
   "execution_count": null,
   "metadata": {},
   "outputs": [],
   "source": [
    "# ahora si enlisto bien esto"
   ]
  },
  {
   "cell_type": "code",
   "execution_count": 27,
   "metadata": {},
   "outputs": [],
   "source": [
    "final_set_files = [x for x in glob.glob('../data/platyhelminthes_dataset_vfinal/*') if x.rpartition('/')[2].split('.')[0] in final_set]"
   ]
  },
  {
   "cell_type": "code",
   "execution_count": 28,
   "metadata": {},
   "outputs": [],
   "source": [
    "for file in glob.glob('../data/platyhelminthes_dataset_vfinal/*'):\n",
    "    if file not in final_set_files:\n",
    "        %system rm {file}"
   ]
  },
  {
   "cell_type": "code",
   "execution_count": 29,
   "metadata": {},
   "outputs": [
    {
     "data": {
      "text/plain": [
       "['../data/platyhelminthes_dataset_vfinal/fasciola_hepatica.PRJEB25283.WBPS18.protein.fa.gz',\n",
       " '../data/platyhelminthes_dataset_vfinal/schistosoma_japonicum.PRJNA520774.WBPS18.protein.fa.gz',\n",
       " '../data/platyhelminthes_dataset_vfinal/echinococcus_granulosus.PRJEB121.WBPS18.protein.fa.gz',\n",
       " '../data/platyhelminthes_dataset_vfinal/opisthorchis_viverrini.PRJNA222628.WBPS18.protein.fa.gz',\n",
       " '../data/platyhelminthes_dataset_vfinal/schistosoma_curassoni.PRJEB44434.WBPS18.protein.fa.gz',\n",
       " '../data/platyhelminthes_dataset_vfinal/trichobilharzia_regenti.PRJEB44434.WBPS18.protein.fa.gz',\n",
       " '../data/platyhelminthes_dataset_vfinal/clonorchis_sinensis.PRJDA72781.WBPS18.protein.fa.gz',\n",
       " '../data/platyhelminthes_dataset_vfinal/taenia_asiatica.PRJEB532.WBPS18.protein.fa.gz',\n",
       " '../data/platyhelminthes_dataset_vfinal/hymenolepis_nana.PRJEB508.WBPS18.protein.fa.gz',\n",
       " '../data/platyhelminthes_dataset_vfinal/echinococcus_granulosus.PRJNA182977.WBPS18.protein.fa.gz',\n",
       " '../data/platyhelminthes_dataset_vfinal/hymenolepis_diminuta.PRJEB507.WBPS18.protein.fa.gz',\n",
       " '../data/platyhelminthes_dataset_vfinal/taenia_asiatica.PRJNA299871.WBPS18.protein.fa.gz',\n",
       " '../data/platyhelminthes_dataset_vfinal/gyrodactylus_salaris.PRJNA244375.WBPS18.protein.fa.gz',\n",
       " '../data/platyhelminthes_dataset_vfinal/clonorchis_sinensis.PRJNA386618.WBPS18.protein.fa.gz',\n",
       " '../data/platyhelminthes_dataset_vfinal/macrostomum_lignano.PRJNA284736.WBPS18.protein.fa.gz',\n",
       " '../data/platyhelminthes_dataset_vfinal/macrostomum_lignano.PRJNA371498.WBPS18.protein.fa.gz',\n",
       " '../data/platyhelminthes_dataset_vfinal/mesocestoides_corti.PRJEB510.WBPS18.protein.fa.gz',\n",
       " '../data/platyhelminthes_dataset_vfinal/schistosoma_haematobium.PRJNA78265.WBPS18.protein.fa.gz',\n",
       " '../data/platyhelminthes_dataset_vfinal/schistosoma_mansoni.PRJEA36577.WBPS18.protein.fa.gz',\n",
       " '../data/platyhelminthes_dataset_vfinal/fasciola_hepatica.PRJNA179522.WBPS18.protein.fa.gz',\n",
       " '../data/platyhelminthes_dataset_vfinal/hymenolepis_diminuta.PRJEB30942.WBPS18.protein.fa.gz',\n",
       " '../data/platyhelminthes_dataset_vfinal/taenia_saginata.PRJNA71493.WBPS18.protein.fa.gz',\n",
       " '../data/platyhelminthes_dataset_vfinal/echinococcus_canadensis.PRJEB8992.WBPS18.protein.fa.gz',\n",
       " '../data/platyhelminthes_dataset_vfinal/echinococcus_multilocularis.PRJEB122.WBPS18.protein.fa.gz',\n",
       " '../data/platyhelminthes_dataset_vfinal/schistosoma_margrebowiei.PRJEB44434.WBPS18.protein.fa.gz',\n",
       " '../data/platyhelminthes_dataset_vfinal/schmidtea_mediterranea.PRJNA12585.WBPS18.protein.fa.gz',\n",
       " '../data/platyhelminthes_dataset_vfinal/taenia_solium.PRJNA170813.WBPS18.protein.fa.gz',\n",
       " '../data/platyhelminthes_dataset_vfinal/schistosoma_mattheei.PRJEB44434.WBPS18.protein.fa.gz',\n",
       " '../data/platyhelminthes_dataset_vfinal/hymenolepis_microstoma.PRJEB124.WBPS18.protein.fa.gz']"
      ]
     },
     "execution_count": 29,
     "metadata": {},
     "output_type": "execute_result"
    }
   ],
   "source": [
    "glob.glob('../data/platyhelminthes_dataset_vfinal/*')"
   ]
  },
  {
   "cell_type": "markdown",
   "metadata": {},
   "source": [
    "Eliminating some by hand just eyeballing the table (seeing BUSCO and N50 values)\n",
    "- macrostomum lignano - PRJNA371498\n",
    "- hymenolepis diminuta - \tPRJEB30942\n",
    "- fasciola hepatica - \tPRJEB25283\n",
    "- clonorchis sinensis - \tPRJNA386618\n"
   ]
  },
  {
   "cell_type": "code",
   "execution_count": 69,
   "metadata": {},
   "outputs": [],
   "source": [
    "definitive_set = ['../data/platyhelminthes_dataset_vfinal/fasciola_hepatica.PRJEB25283.WBPS18.protein.fa.gz',\n",
    " '../data/platyhelminthes_dataset_vfinal/schistosoma_japonicum.PRJNA520774.WBPS18.protein.fa.gz',\n",
    " '../data/platyhelminthes_dataset_vfinal/echinococcus_granulosus.PRJEB121.WBPS18.protein.fa.gz',\n",
    " '../data/platyhelminthes_dataset_vfinal/opisthorchis_viverrini.PRJNA222628.WBPS18.protein.fa.gz',\n",
    " '../data/platyhelminthes_dataset_vfinal/schistosoma_curassoni.PRJEB44434.WBPS18.protein.fa.gz',\n",
    " '../data/platyhelminthes_dataset_vfinal/trichobilharzia_regenti.PRJEB44434.WBPS18.protein.fa.gz',\n",
    " '../data/platyhelminthes_dataset_vfinal/taenia_asiatica.PRJEB532.WBPS18.protein.fa.gz',\n",
    " '../data/platyhelminthes_dataset_vfinal/hymenolepis_nana.PRJEB508.WBPS18.protein.fa.gz',\n",
    " '../data/platyhelminthes_dataset_vfinal/echinococcus_granulosus.PRJNA182977.WBPS18.protein.fa.gz',\n",
    " '../data/platyhelminthes_dataset_vfinal/taenia_asiatica.PRJNA299871.WBPS18.protein.fa.gz',\n",
    " '../data/platyhelminthes_dataset_vfinal/gyrodactylus_salaris.PRJNA244375.WBPS18.protein.fa.gz',\n",
    " '../data/platyhelminthes_dataset_vfinal/clonorchis_sinensis.PRJNA386618.WBPS18.protein.fa.gz',\n",
    " '../data/platyhelminthes_dataset_vfinal/macrostomum_lignano.PRJNA371498.WBPS18.protein.fa.gz',\n",
    " '../data/platyhelminthes_dataset_vfinal/mesocestoides_corti.PRJEB510.WBPS18.protein.fa.gz',\n",
    " '../data/platyhelminthes_dataset_vfinal/schistosoma_haematobium.PRJNA78265.WBPS18.protein.fa.gz',\n",
    " '../data/platyhelminthes_dataset_vfinal/schistosoma_mansoni.PRJEA36577.WBPS18.protein.fa.gz',\n",
    " '../data/platyhelminthes_dataset_vfinal/hymenolepis_diminuta.PRJEB30942.WBPS18.protein.fa.gz',\n",
    " '../data/platyhelminthes_dataset_vfinal/taenia_saginata.PRJNA71493.WBPS18.protein.fa.gz',\n",
    " '../data/platyhelminthes_dataset_vfinal/echinococcus_canadensis.PRJEB8992.WBPS18.protein.fa.gz',\n",
    " '../data/platyhelminthes_dataset_vfinal/echinococcus_multilocularis.PRJEB122.WBPS18.protein.fa.gz',\n",
    " '../data/platyhelminthes_dataset_vfinal/schistosoma_margrebowiei.PRJEB44434.WBPS18.protein.fa.gz',\n",
    " '../data/platyhelminthes_dataset_vfinal/schmidtea_mediterranea.PRJNA12585.WBPS18.protein.fa.gz',\n",
    " '../data/platyhelminthes_dataset_vfinal/taenia_solium.PRJNA170813.WBPS18.protein.fa.gz',\n",
    " '../data/platyhelminthes_dataset_vfinal/schistosoma_mattheei.PRJEB44434.WBPS18.protein.fa.gz',\n",
    " '../data/platyhelminthes_dataset_vfinal/hymenolepis_microstoma.PRJEB124.WBPS18.protein.fa.gz']"
   ]
  },
  {
   "cell_type": "code",
   "execution_count": 70,
   "metadata": {},
   "outputs": [],
   "source": [
    "import numpy as np"
   ]
  },
  {
   "cell_type": "code",
   "execution_count": 71,
   "metadata": {},
   "outputs": [],
   "source": [
    "# getting genomes with more than log10(4.5) N50\n",
    "cut_by_n50 = wbps_genome_data.assign(n50log10 = lambda df: np.log10([float(x.replace(',','')) for x in df.N50.to_list()])).query(\"n50log10 >= 4.5\").species_code.to_list()"
   ]
  },
  {
   "cell_type": "code",
   "execution_count": 72,
   "metadata": {},
   "outputs": [
    {
     "data": {
      "text/plain": [
       "set()"
      ]
     },
     "execution_count": 72,
     "metadata": {},
     "output_type": "execute_result"
    }
   ],
   "source": [
    "set(definitive_set).intersection(set([x.rpartition('_')[0] for x in cut_by_n50]))"
   ]
  },
  {
   "cell_type": "code",
   "execution_count": 73,
   "metadata": {},
   "outputs": [
    {
     "data": {
      "text/plain": [
       "25"
      ]
     },
     "execution_count": 73,
     "metadata": {},
     "output_type": "execute_result"
    }
   ],
   "source": [
    "len(definitive_set)"
   ]
  },
  {
   "cell_type": "code",
   "execution_count": 77,
   "metadata": {},
   "outputs": [],
   "source": [
    "definitive_set = [x for x in definitive_set if x.rpartition('/')[2].split('.')[0] in [y.rpartition('_')[0] for y in cut_by_n50]]"
   ]
  },
  {
   "cell_type": "code",
   "execution_count": 78,
   "metadata": {},
   "outputs": [],
   "source": [
    "for file in glob.glob('../data/platyhelminthes_dataset_vfinal/*'):\n",
    "    if file not in definitive_set:\n",
    "        %system rm {file}"
   ]
  },
  {
   "cell_type": "code",
   "execution_count": 79,
   "metadata": {},
   "outputs": [
    {
     "data": {
      "text/plain": [
       "23"
      ]
     },
     "execution_count": 79,
     "metadata": {},
     "output_type": "execute_result"
    }
   ],
   "source": [
    "len(definitive_set)"
   ]
  },
  {
   "cell_type": "code",
   "execution_count": 65,
   "metadata": {},
   "outputs": [
    {
     "data": {
      "text/plain": [
       "['fasciola_hepatica.PRJEB25283.WBPS18',\n",
       " 'schistosoma_japonicum.PRJNA520774.WBPS18',\n",
       " 'echinococcus_granulosus.PRJEB121.WBPS18',\n",
       " 'opisthorchis_viverrini.PRJNA222628.WBPS18',\n",
       " 'schistosoma_curassoni.PRJEB44434.WBPS18',\n",
       " 'trichobilharzia_regenti.PRJEB44434.WBPS18',\n",
       " 'taenia_asiatica.PRJEB532.WBPS18',\n",
       " 'echinococcus_granulosus.PRJNA182977.WBPS18',\n",
       " 'taenia_asiatica.PRJNA299871.WBPS18',\n",
       " 'clonorchis_sinensis.PRJNA386618.WBPS18',\n",
       " 'macrostomum_lignano.PRJNA371498.WBPS18',\n",
       " 'schistosoma_haematobium.PRJNA78265.WBPS18',\n",
       " 'schistosoma_mansoni.PRJEA36577.WBPS18',\n",
       " 'hymenolepis_diminuta.PRJEB30942.WBPS18',\n",
       " 'taenia_saginata.PRJNA71493.WBPS18',\n",
       " 'echinococcus_multilocularis.PRJEB122.WBPS18',\n",
       " 'schistosoma_margrebowiei.PRJEB44434.WBPS18',\n",
       " 'schmidtea_mediterranea.PRJNA12585.WBPS18',\n",
       " 'schistosoma_mattheei.PRJEB44434.WBPS18',\n",
       " 'hymenolepis_microstoma.PRJEB124.WBPS18']"
      ]
     },
     "execution_count": 65,
     "metadata": {},
     "output_type": "execute_result"
    }
   ],
   "source": [
    "[x.rpartition('/')[2].rpartition('.protein')[0] for x in definitive_set]"
   ]
  },
  {
   "cell_type": "markdown",
   "metadata": {
    "tags": []
   },
   "source": [
    "# Downloading proteins and annotations"
   ]
  },
  {
   "cell_type": "code",
   "execution_count": 85,
   "metadata": {},
   "outputs": [
    {
     "name": "stderr",
     "output_type": "stream",
     "text": [
      "100%|█████████████████████████████████████████████████████████████████████████████████████████████████████████████| 23/23 [06:14<00:00, 16.27s/it]\n"
     ]
    }
   ],
   "source": [
    "# downloading proteomes\n",
    "import tqdm\n",
    "from ftplib import FTP\n",
    "\n",
    "# Assuming df is your pandas DataFrame with a column named 'label'\n",
    "\n",
    "# Function to extract species name and project ID from label\n",
    "def extract_info(label):\n",
    "    parts = label.split('_')\n",
    "    species_name = '_'.join(parts[:-1])\n",
    "    project_id = parts[-1]\n",
    "    return species_name, project_id\n",
    "\n",
    "# Function to download files from FTP\n",
    "def download_files(species_name, project_id):\n",
    "    ftp_url = f\"ftp://ftp.ebi.ac.uk/pub/databases/wormbase/parasite/releases/WBPS19/species/{species_name}/{project_id}/\"\n",
    "    ftp = FTP('ftp.ebi.ac.uk')\n",
    "    ftp.login()\n",
    "    ftp.cwd(f\"/pub/databases/wormbase/parasite/releases/WBPS19/species/{species_name}/{project_id}/\")\n",
    "    filenames = ftp.nlst()\n",
    "    for filename in filenames:\n",
    "        if ('protein' in filename) or ('gff3' in filename):\n",
    "            with open(filename, 'wb') as f:\n",
    "                ftp.retrbinary(f\"RETR {filename}\", f.write)\n",
    "    ftp.quit()\n",
    "\n",
    "# Iterate over each label, extract species name and project ID, and download files\n",
    "for label in tqdm.tqdm([x.rpartition('/')[2].split('.WBPS18')[0].replace('.', '_') for x in definitive_set]):\n",
    "    species_name, project_id = extract_info(label)\n",
    "    download_files(species_name, project_id)\n",
    "    %system mv *protein* ../data/platyhelminthes_dataset_vfinal/\n",
    "    %system mv *gff3* ../data/platyhelminthes_dataset_vfinal/"
   ]
  }
 ],
 "metadata": {
  "kernelspec": {
   "display_name": "Python 3",
   "language": "python",
   "name": "python3"
  },
  "language_info": {
   "codemirror_mode": {
    "name": "ipython",
    "version": 3
   },
   "file_extension": ".py",
   "mimetype": "text/x-python",
   "name": "python",
   "nbconvert_exporter": "python",
   "pygments_lexer": "ipython3",
   "version": "3.6.10"
  }
 },
 "nbformat": 4,
 "nbformat_minor": 5
}
