{
 "cells": [
  {
   "cell_type": "markdown",
   "metadata": {},
   "source": [
    "# Overview\n",
    "For Supp. Table 6 all cophenetic distances for _S. mansoni_ inparalog groups must be calculated. This script does this calculation using ape (package from R), taking into account only cases were a phylogenetic tree was inferred (i.e. groups with at least five sequences)."
   ]
  },
  {
   "cell_type": "code",
   "execution_count": 12,
   "metadata": {},
   "outputs": [],
   "source": [
    "# import libraries\n",
    "import ete3\n",
    "import glob\n",
    "import pandas as pd"
   ]
  },
  {
   "cell_type": "code",
   "execution_count": 13,
   "metadata": {},
   "outputs": [],
   "source": [
    "inparalogs_smansoni = pd.read_csv('../results/misc/inparalogs_group_composition_final.tsv', sep = '\\t').query(\"Species == 'S. mansoni'\")"
   ]
  },
  {
   "cell_type": "code",
   "execution_count": 14,
   "metadata": {},
   "outputs": [],
   "source": [
    "# get dictionary from wormbase code to internal code\n",
    "original2code = {row['Original Name']: row['New Name'] for index,row in pd.read_csv('../results/misc/gene_code_correspondance.tsv', sep = '\\t').iterrows()}"
   ]
  },
  {
   "cell_type": "code",
   "execution_count": 15,
   "metadata": {},
   "outputs": [],
   "source": [
    "# get families with inparalogous genes for S. mansoni"
   ]
  },
  {
   "cell_type": "code",
   "execution_count": 16,
   "metadata": {},
   "outputs": [],
   "source": [
    "smansoni_inparalogous_families = [x.split('_')[0] for x in inparalogs_smansoni.monophyletic_group_code.to_list()]"
   ]
  },
  {
   "cell_type": "code",
   "execution_count": 17,
   "metadata": {},
   "outputs": [],
   "source": [
    "# get inparalogous genes for S. mansoni in each family, using internal code"
   ]
  },
  {
   "cell_type": "code",
   "execution_count": 18,
   "metadata": {},
   "outputs": [],
   "source": [
    "family2inparalogs = {}\n",
    "for index,row in inparalogs_smansoni.iterrows():\n",
    "    genes = row['Genes'].split(', ')\n",
    "    family = row['monophyletic_group_code'].split('_')[0]\n",
    "    current_group = []\n",
    "    for gene in genes:\n",
    "        current_group.append(original2code.get(gene))\n",
    "    # update dict\n",
    "    if not family in family2inparalogs.keys():\n",
    "        family2inparalogs.update({family: [current_group]})\n",
    "    else:\n",
    "        family2inparalogs.get(family).append(current_group)\n"
   ]
  },
  {
   "cell_type": "code",
   "execution_count": 19,
   "metadata": {},
   "outputs": [],
   "source": [
    "import rpy2"
   ]
  },
  {
   "cell_type": "code",
   "execution_count": 20,
   "metadata": {},
   "outputs": [
    {
     "name": "stdout",
     "output_type": "stream",
     "text": [
      "The rpy2.ipython extension is already loaded. To reload it, use:\n",
      "  %reload_ext rpy2.ipython\n"
     ]
    }
   ],
   "source": [
    "%load_ext rpy2.ipython"
   ]
  },
  {
   "cell_type": "code",
   "execution_count": 29,
   "metadata": {},
   "outputs": [],
   "source": [
    "codeml_out_sman = [x for x in glob.glob('../results/molecular_evolution_analyses/codeml_results/*/*/M0*/out') if 'SMAN' in x]"
   ]
  },
  {
   "cell_type": "code",
   "execution_count": 31,
   "metadata": {},
   "outputs": [
    {
     "name": "stderr",
     "output_type": "stream",
     "text": [
      "/home/mauricio/anaconda3/envs/r-environment/lib/python3.6/site-packages/rpy2/robjects/vectors.py:980: UserWarning: R object inheriting from \"POSIXct\" but without attribute \"tzone\".\n",
      "  warnings.warn('R object inheriting from \"POSIXct\" but without '\n",
      "/home/mauricio/anaconda3/envs/r-environment/lib/python3.6/site-packages/pandas/core/arrays/datetimes.py:2059: PytzUsageWarning: The zone attribute is specific to pytz's interface; please migrate to a new time zone provider. For more details on how to do so, see https://pytz-deprecation-shim.readthedocs.io/en/latest/migration.html\n",
      "  values, tz_parsed = conversion.datetime_to_datetime64(data)\n"
     ]
    },
    {
     "data": {
      "text/plain": [
       "<rpy2.robjects.functions.SignatureTranslatedFunction object at 0x7f4e14334bc8> [RTYPES.CLOSXP]\n",
       "R classes: ('function',)"
      ]
     },
     "execution_count": 31,
     "metadata": {},
     "output_type": "execute_result"
    }
   ],
   "source": [
    "import rpy2.robjects as ro\n",
    "from rpy2.robjects import pandas2ri\n",
    "import rpy2.robjects.packages as rpackages\n",
    "from rpy2.robjects.vectors import StrVector\n",
    "\n",
    "# Activate the automatic conversion of pandas DataFrames to R DataFrames\n",
    "pandas2ri.activate()\n",
    "\n",
    "# Load the necessary R packages\n",
    "base = rpackages.importr('base')\n",
    "utils = rpackages.importr('utils')\n",
    "treeio = rpackages.importr('treeio')\n",
    "magrittr = rpackages.importr('magrittr')\n",
    "corrr = rpackages.importr('corrr')\n",
    "dplyr = rpackages.importr('dplyr')\n",
    "ape = rpackages.importr('ape')\n",
    "\n",
    "# Define the R function in the Python environment\n",
    "ro.r('''\n",
    "library(treeio)\n",
    "library(magrittr)\n",
    "library(corrr)\n",
    "library(dplyr)\n",
    "library(ape)\n",
    "\n",
    "calculador_cophenetic_dS = function(data_codeml_mlc) {\n",
    "    # obtengo arbol de este archivo mlc\n",
    "        data_codeml_mlc %>% treeio::get.tree() -> arbol_codeml\n",
    "    \n",
    "        # obtengo distancia cofenetica, tomando como largo de rama el dS calculado por PAML\n",
    "        arbol_codeml %>%\n",
    "          treeio::as.treedata() %>% \n",
    "            as_tibble() %>%   \n",
    "            dplyr::full_join(x = ., y = (data_codeml_mlc %>% get.data()), by = c('node')) %>% \n",
    "            dplyr::select(parent, node, dS, label) %>% \n",
    "            dplyr::rename(branch.length = 'dS') %>% \n",
    "            ape::as.phylo() %>% \n",
    "            ape::cophenetic.phylo(x = .) -> cophenetic_dS\n",
    "\n",
    "        # modifico un poco la tabla de distancia cofeneticas\n",
    "        cophenetic_dS %<>% \n",
    "        corrr::as_cordf() %>% \n",
    "        corrr::stretch(x = ., remove.dups=T, na.rm=T) %>% \n",
    "        dplyr::rename(`cophenetic dS` = 'r')\n",
    "        cophenetic_dS %>% dplyr::select(`cophenetic dS`) -> valores_distancia\n",
    "        cophenetic_dS %<>% dplyr::select(-`cophenetic dS`)\n",
    "        #cophenetic_dS[] <- dicc_indexados[unlist(cophenetic_dS)]\n",
    "        cophenetic_dS %<>% dplyr::mutate(`cophenetic dS` = valores_distancia$`cophenetic dS`)\n",
    "        \n",
    "        # ordeno las columnas de los genes\n",
    "        #cophenetic_dS %<>% ordenador_tablas(tabla = .)\n",
    "        \n",
    "        # devuelvo el resultado\n",
    "        return(cophenetic_dS)\n",
    "}\n",
    "''')"
   ]
  },
  {
   "cell_type": "code",
   "execution_count": 32,
   "metadata": {},
   "outputs": [],
   "source": [
    "cophenetic_ds_rows = []\n",
    "# Process each file in the loop\n",
    "for codeml_out in codeml_out_sman:\n",
    "    ro.r.assign(\"codeml_out\", codeml_out)\n",
    "    ro.r('''\n",
    "    data_codeml_mlc = treeio::read.codeml_mlc(codeml_out)\n",
    "    cophenetic_dS = calculador_cophenetic_dS(data_codeml_mlc)\n",
    "    ''')\n",
    "    cophenetic_dS = ro.r('cophenetic_dS')\n",
    "    cophenetic_ds_rows.append(cophenetic_dS)"
   ]
  },
  {
   "cell_type": "code",
   "execution_count": 33,
   "metadata": {},
   "outputs": [],
   "source": [
    "cophenetic_ds_table = pd.concat(cophenetic_ds_rows)"
   ]
  },
  {
   "cell_type": "code",
   "execution_count": 36,
   "metadata": {},
   "outputs": [],
   "source": [
    "code2original = {value:key for key,value in original2code.items()}"
   ]
  },
  {
   "cell_type": "code",
   "execution_count": 38,
   "metadata": {},
   "outputs": [],
   "source": [
    "cophenetic_ds_table = cophenetic_ds_table.applymap(lambda x: code2original.get(x,x))"
   ]
  },
  {
   "cell_type": "code",
   "execution_count": 39,
   "metadata": {},
   "outputs": [],
   "source": [
    "# saving table\n",
    "cophenetic_ds_table.to_csv('../results/misc/cophenetic_ds_smansoni.tsv', sep = '\\t', index = False)"
   ]
  }
 ],
 "metadata": {
  "kernelspec": {
   "display_name": "Python 3",
   "language": "python",
   "name": "python3"
  },
  "language_info": {
   "codemirror_mode": {
    "name": "ipython",
    "version": 3
   },
   "file_extension": ".py",
   "mimetype": "text/x-python",
   "name": "python",
   "nbconvert_exporter": "python",
   "pygments_lexer": "ipython3",
   "version": "3.6.10"
  }
 },
 "nbformat": 4,
 "nbformat_minor": 4
}
