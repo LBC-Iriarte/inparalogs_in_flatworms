{
 "cells": [
  {
   "cell_type": "markdown",
   "metadata": {},
   "source": [
    "# Overview\n",
    "In this notebook inparalogous groups are determined using tools from ETE3. Groups of inparalogs are then named, and a table is saved to employ in subsequent analyses."
   ]
  },
  {
   "cell_type": "code",
   "execution_count": 1,
   "metadata": {},
   "outputs": [],
   "source": [
    "# loading libraries\n",
    "import os, glob, ete3, networkx as nx, itertools, tqdm\n",
    "import pandas as pd\n",
    "from ete3 import Tree"
   ]
  },
  {
   "cell_type": "markdown",
   "metadata": {},
   "source": [
    "# Defining functions"
   ]
  },
  {
   "cell_type": "code",
   "execution_count": 2,
   "metadata": {},
   "outputs": [],
   "source": [
    "def create_edges_monophyly_assemblies_at_most_many_to_one(tree, leaves_graph, target_assemblies):\n",
    "    for node in tree.get_monophyletic(values = target_assemblies, target_attr = 'assembly'):\n",
    "            # create only if the monophyletic group contains: a. only sequences of desired assemblies (and for all assemblies), and at most in realtionship 1-to-many\n",
    "            # count for assemblies\n",
    "            assemblies_in = [leaf.split('.')[0] for leaf in node.get_leaf_names()]\n",
    "            # create dictionary with counts\n",
    "            assembly_count_dict = {}\n",
    "            for assembly in target_assemblies:\n",
    "                assembly_count_dict.update({assembly: assemblies_in.count(assembly)})\n",
    "            # first verifying that only target assemblies are in this monophyletic group\n",
    "            assemblies_in_set = set(assemblies_in)\n",
    "            target_assemblies_set = set(target_assemblies)\n",
    "            if (len(target_assemblies_set.difference(assemblies_in_set)) == 0) and (len(assemblies_in_set.difference(target_assemblies_set)) == 0):\n",
    "                # now checking that, at most, one value for assembly is greater than one\n",
    "                total_count = len(assembly_count_dict.keys())\n",
    "                counts_upper_one = len([count for count in assembly_count_dict.values() if count > 1])\n",
    "                if (total_count - counts_upper_one) >= (total_count - 1):\n",
    "                    # adding edges to target graph\n",
    "                    node_leafs = node.get_leaf_names()\n",
    "                    # connect allt the pairwise combinations of them\n",
    "                    for pairwise_nodes in itertools.combinations(node_leafs, 2):\n",
    "                        # get them\n",
    "                        node_a, node_b = pairwise_nodes\n",
    "                        # add edge\n",
    "                        leaves_graph.add_edge(node_a, node_b)\n",
    "\n",
    "def getting_assembly_monophyletic_groups(tree, target_assemblies):\n",
    "    # create the graph\n",
    "    tree_graph = nx.Graph()\n",
    "    # add nodes\n",
    "    [tree_graph.add_node(leaf) for leaf in tree]\n",
    "    # create the assembly dictionary\n",
    "    node2assembly_dict = {}\n",
    "    [node2assembly_dict.update({leaf.name: leaf.name.split('.')[0]}) for leaf in tree]\n",
    "    # setting this features into the tree\n",
    "    for leaf in tree:\n",
    "        leaf.add_features(assembly = node2assembly_dict.get(leaf.name, 'none'))\n",
    "    # traverse the tree in a 'postorder' modality\n",
    "    for node in tree.traverse('postorder'):\n",
    "        if node != tree:\n",
    "            tree.set_outgroup(node)\n",
    "        # performing the algorithm\n",
    "        create_edges_monophyly_assemblies_at_most_many_to_one(tree = tree, leaves_graph = tree_graph, target_assemblies = target_assemblies)\n",
    "    # get connected components\n",
    "    connected_comps = [list(group) for group in list(nx.connected_components(tree_graph)) if len(list(group)) > 1]\n",
    "    # return result\n",
    "    return connected_comps"
   ]
  },
  {
   "cell_type": "code",
   "execution_count": 3,
   "metadata": {},
   "outputs": [],
   "source": [
    "def getting_monophyletic_groups(tree_path):\n",
    "    # getting treename\n",
    "    tree_name = tree_path.rpartition('/')[2]\n",
    "    # loading tree\n",
    "    t = Tree(tree_path)\n",
    "    # creating dictionary to allocate groups\n",
    "    dixio = {}\n",
    "    if len(t.get_leaf_names()) > 4:\n",
    "        for species_code in species_codes:\n",
    "            # updating dixio\n",
    "            dixio.update({species_code: getting_assembly_monophyletic_groups(tree = t, target_assemblies = [species_code])})\n",
    "    if len(t.get_leaf_names()) <= 4: # this can be done only because only trees for one-species trees were saved into the folder\n",
    "        for species_code in species_codes:\n",
    "            # updating dixio\n",
    "            species_in_leaves = list(set([x.rpartition('.')[0] for x in t.get_leaf_names()]))\n",
    "            if species_code in species_in_leaves:\n",
    "                dixio.update({species_code: [[leaf for leaf in t.get_leaf_names()]]})\n",
    "            else:\n",
    "                dixio.update({species_code: []})\n",
    "    return {tree_name: dixio}"
   ]
  },
  {
   "cell_type": "markdown",
   "metadata": {},
   "source": [
    "# Getting the inparalogs"
   ]
  },
  {
   "cell_type": "code",
   "execution_count": 4,
   "metadata": {},
   "outputs": [],
   "source": [
    "# defining used species_codes\n",
    "species_codes = [x.rpartition('/')[2].split('.')[0].split('_')[0].title()[0]+x.rpartition('/')[2].split('.')[0].split('_')[1][0:3] for x in glob.glob('../data/platyhelminthes_dataset/*.faa')]"
   ]
  },
  {
   "cell_type": "code",
   "execution_count": 10,
   "metadata": {},
   "outputs": [],
   "source": [
    "tree_monophyletics = {}"
   ]
  },
  {
   "cell_type": "code",
   "execution_count": 11,
   "metadata": {},
   "outputs": [
    {
     "name": "stderr",
     "output_type": "stream",
     "text": [
      "100%|██████████| 27190/27190 [11:08<00:00, 40.66it/s]  \n"
     ]
    }
   ],
   "source": [
    "# apply function\n",
    "for tree_path in tqdm.tqdm(glob.glob('../results/phylogenetic_trees/*/*.contree')+glob.glob('../results/phylogenetic_trees/*/*.tree')):\n",
    "    tree_monophyletics.update(getting_monophyletic_groups(tree_path))"
   ]
  },
  {
   "cell_type": "code",
   "execution_count": 12,
   "metadata": {},
   "outputs": [],
   "source": [
    "# get gene codes\n",
    "original2new = pd.read_csv('../results/misc/gene_code_correspondance.tsv', sep = '\\t')"
   ]
  },
  {
   "cell_type": "code",
   "execution_count": 13,
   "metadata": {},
   "outputs": [
    {
     "data": {
      "text/html": [
       "<div>\n",
       "<style scoped>\n",
       "    .dataframe tbody tr th:only-of-type {\n",
       "        vertical-align: middle;\n",
       "    }\n",
       "\n",
       "    .dataframe tbody tr th {\n",
       "        vertical-align: top;\n",
       "    }\n",
       "\n",
       "    .dataframe thead th {\n",
       "        text-align: right;\n",
       "    }\n",
       "</style>\n",
       "<table border=\"1\" class=\"dataframe\">\n",
       "  <thead>\n",
       "    <tr style=\"text-align: right;\">\n",
       "      <th></th>\n",
       "      <th>Original Name</th>\n",
       "      <th>New Name</th>\n",
       "    </tr>\n",
       "  </thead>\n",
       "  <tbody>\n",
       "    <tr>\n",
       "      <th>0</th>\n",
       "      <td>TsM_000000100</td>\n",
       "      <td>Tsol.1</td>\n",
       "    </tr>\n",
       "    <tr>\n",
       "      <th>1</th>\n",
       "      <td>TsM_000000200</td>\n",
       "      <td>Tsol.2</td>\n",
       "    </tr>\n",
       "    <tr>\n",
       "      <th>2</th>\n",
       "      <td>TsM_000000300</td>\n",
       "      <td>Tsol.3</td>\n",
       "    </tr>\n",
       "    <tr>\n",
       "      <th>3</th>\n",
       "      <td>TsM_000000400</td>\n",
       "      <td>Tsol.4</td>\n",
       "    </tr>\n",
       "    <tr>\n",
       "      <th>4</th>\n",
       "      <td>TsM_000000500</td>\n",
       "      <td>Tsol.5</td>\n",
       "    </tr>\n",
       "  </tbody>\n",
       "</table>\n",
       "</div>"
      ],
      "text/plain": [
       "   Original Name New Name\n",
       "0  TsM_000000100   Tsol.1\n",
       "1  TsM_000000200   Tsol.2\n",
       "2  TsM_000000300   Tsol.3\n",
       "3  TsM_000000400   Tsol.4\n",
       "4  TsM_000000500   Tsol.5"
      ]
     },
     "execution_count": 13,
     "metadata": {},
     "output_type": "execute_result"
    }
   ],
   "source": [
    "original2new.head()"
   ]
  },
  {
   "cell_type": "code",
   "execution_count": 14,
   "metadata": {},
   "outputs": [],
   "source": [
    "new2original_dict = {row['New Name']: row['Original Name'] for index,row in original2new.iterrows()}"
   ]
  },
  {
   "cell_type": "code",
   "execution_count": 15,
   "metadata": {},
   "outputs": [
    {
     "name": "stderr",
     "output_type": "stream",
     "text": [
      "100%|██████████| 27190/27190 [00:08<00:00, 3043.80it/s]\n"
     ]
    }
   ],
   "source": [
    "# Given dictionary\n",
    "# Dictionary to map species codes to species names\n",
    "code2species = {\n",
    "    'Tsol': 'T. solium',\n",
    "    'Mlig': 'M. lignano',\n",
    "    'Treg': 'T. regenti',\n",
    "    'Hmic': 'H. microstoma',\n",
    "    'Tsag': 'T. saginata',\n",
    "    'Hdim': 'H. diminuta',\n",
    "    'Fhep': 'F. hepatica',\n",
    "    'Smat': 'S. mattheei',\n",
    "    'Scur': 'S. curassoni',\n",
    "    'Emul': 'E. multilocularis',\n",
    "    'Sman': 'S. mansoni',\n",
    "    'Tasi': 'T. asiatica',\n",
    "    'Smar': 'S. margrebowiei',\n",
    "    'Csin': 'C. sinensis',\n",
    "    'Egra': 'E. granulosus',\n",
    "    'Mcor': 'M. corti',\n",
    "    'Shae': 'S. haematobium',\n",
    "    'Sjap': 'S. japonicum',\n",
    "    'Ecan': 'E. canadensis',\n",
    "    'Smed': 'S. mediterranea',\n",
    "    'Oviv': 'O. viverrini'\n",
    "}\n",
    "\n",
    "# Dictionary to store the table data\n",
    "table_data = []\n",
    "\n",
    "# Iterate over the dictionary\n",
    "for key, value in tqdm.tqdm(tree_monophyletics.items()):\n",
    "    family_code = key.rpartition('.')[0]  # Extract family code\n",
    "    for species, genes in value.items():\n",
    "        if genes:\n",
    "            for idx, gene_list in enumerate(genes, start=1):\n",
    "                gene_codes = ', '.join([new2original_dict.get(x) for x in gene_list])\n",
    "                species_name = code2species.get(species, 'Unknown')\n",
    "                monophyletic_group_code = f\"{family_code}_{species.upper()}_G{idx}\"\n",
    "                table_data.append(pd.DataFrame.from_dict({'Genes': [gene_codes], 'monophyletic_group_code': [monophyletic_group_code], 'Species': [species_name]}))"
   ]
  },
  {
   "cell_type": "code",
   "execution_count": 16,
   "metadata": {},
   "outputs": [],
   "source": [
    "inparalogs_table = pd.concat(table_data)"
   ]
  },
  {
   "cell_type": "code",
   "execution_count": 17,
   "metadata": {},
   "outputs": [],
   "source": [
    "inparalogs_table.to_csv('../results/misc/inparalogs_group_composition_final.tsv', sep = '\\t', index = False)"
   ]
  }
 ],
 "metadata": {
  "kernelspec": {
   "display_name": "Python 3",
   "language": "python",
   "name": "python3"
  },
  "language_info": {
   "codemirror_mode": {
    "name": "ipython",
    "version": 3
   },
   "file_extension": ".py",
   "mimetype": "text/x-python",
   "name": "python",
   "nbconvert_exporter": "python",
   "pygments_lexer": "ipython3",
   "version": "3.6.10"
  }
 },
 "nbformat": 4,
 "nbformat_minor": 4
}
