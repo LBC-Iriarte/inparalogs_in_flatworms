{
 "cells": [
  {
   "cell_type": "markdown",
   "metadata": {},
   "source": [
    "# Overview"
   ]
  },
  {
   "cell_type": "markdown",
   "metadata": {},
   "source": [
    "## Create folders"
   ]
  },
  {
   "cell_type": "code",
   "execution_count": 1,
   "metadata": {},
   "outputs": [],
   "source": [
    "# import libraries\n",
    "import tqdm, glob, os"
   ]
  },
  {
   "cell_type": "code",
   "execution_count": 3,
   "metadata": {},
   "outputs": [
    {
     "data": {
      "text/plain": [
       "[None, None, None, None, None]"
      ]
     },
     "execution_count": 3,
     "metadata": {},
     "output_type": "execute_result"
    }
   ],
   "source": [
    "target_dirs = ['../results/secretome_and_transmembranome_predictions',\n",
    "               '../results/secretome_and_transmembranome_predictions/SignalP/',\n",
    "               '../results/secretome_and_transmembranome_predictions/SecretomeP',\n",
    "               '../results/secretome_and_transmembranome_predictions/TMHMM',\n",
    "               '../results/secretome_and_transmembranome_predictions/TargetP']\n",
    "\n",
    "[os.mkdir(directory) for directory in target_dirs if not os.path.exists(directory)]"
   ]
  },
  {
   "cell_type": "markdown",
   "metadata": {},
   "source": [
    "## Prediction with SignalP v4.1"
   ]
  },
  {
   "cell_type": "code",
   "execution_count": null,
   "metadata": {},
   "outputs": [],
   "source": [
    "run_signalp() {\n",
    "    fasta_file=\"$1\"\n",
    "    fasta_prefix=$(basename \"$fasta_file\" | cut -d '.' -f 1)\n",
    "    signalp_out=\"../results/secretome_and_transmembranome_predictions/SignalP/${fasta_prefix}.signalp.out\"\n",
    "    if [ ! -f \"$signalp_out\" ]; then\n",
    "        signalp -f short -t euk -U 0.34 \"$fasta_file\" &> \"$signalp_out\"\n",
    "    fi\n",
    "}\n",
    "\n",
    "# Export the function so it's available to parallel\n",
    "export -f run_signalp\n",
    "\n",
    "# Get a list of fasta files\n",
    "fasta_files=../data/platyhelminthes_dataset/*.faa\n",
    "\n",
    "# Run the processing of fasta files in parallel using GNU Parallel\n",
    "parallel -j 32 run_signalp ::: $fasta_files\n"
   ]
  },
  {
   "cell_type": "markdown",
   "metadata": {},
   "source": [
    "## Prediction with SecretomeP"
   ]
  },
  {
   "cell_type": "code",
   "execution_count": null,
   "metadata": {},
   "outputs": [],
   "source": [
    "run_secretomep() {\n",
    "    fasta_file=\"$1\"\n",
    "    fasta_prefix=$(basename \"$fasta_file\" | cut -d '.' -f 1)\n",
    "    secretomep_out=\"../results/secretome_and_transmembranome_predictions/SecretomeP/${fasta_prefix}.secretomep.out\"\n",
    "    if [ ! -f \"$secretomep_out\" ]; then\n",
    "        /home/mauricio/mauricio_PROGRAMAS/secretomep-1.0/secretomep -v -s \"$fasta_file\" &> \"$secretomep_out\"\n",
    "    fi\n",
    "}\n",
    "\n",
    "# Export the function so it's available to parallel\n",
    "export -f run_secretomep\n",
    "\n",
    "# Get a list of fasta files\n",
    "fasta_files=../data/platyhelminthes_dataset/*.faa\n",
    "\n",
    "# Run the processing of fasta files in parallel using GNU Parallel\n",
    "parallel -j 32 run_secretomep ::: $fasta_files\n"
   ]
  },
  {
   "cell_type": "markdown",
   "metadata": {},
   "source": [
    "## Prediction with TMHMM"
   ]
  },
  {
   "cell_type": "code",
   "execution_count": null,
   "metadata": {},
   "outputs": [],
   "source": [
    "# Function to process each fasta file\n",
    "run_tmhmm() {\n",
    "    fasta_file=\"$1\"\n",
    "    fasta_prefix=$(basename \"$fasta_file\" | cut -d '.' -f 1)\n",
    "    tmhmm_out=\"../results/secretome_and_transmembranome_predictions/TMHMM/${fasta_prefix}.tmhmm.out\"\n",
    "    if [ ! -f \"$tmhmm_out\" ]; then\n",
    "        tmhmm \"$fasta_file\" &> \"$tmhmm_out\"\n",
    "    fi\n",
    "}\n",
    "\n",
    "# Export the function so it's available to parallel\n",
    "export -f run_tmhmm\n",
    "\n",
    "# Get a list of fasta files\n",
    "fasta_files=../data/platyhelminthes_dataset/*.faa\n",
    "\n",
    "# Run the processing of fasta files in parallel using GNU Parallel\n",
    "parallel -j 32 run_tmhmm ::: $fasta_files"
   ]
  },
  {
   "cell_type": "markdown",
   "metadata": {},
   "source": [
    "## Prediction with TargetP"
   ]
  },
  {
   "cell_type": "code",
   "execution_count": null,
   "metadata": {},
   "outputs": [],
   "source": [
    "run_targetp() {\n",
    "    fasta_file=\"$1\"\n",
    "    fasta_prefix=$(basename \"$fasta_file\" | cut -d '.' -f 1)\n",
    "    targetp_out=\"../results/secretome_and_transmembranome_predictions/TargetP/${fasta_prefix}.targetp.out\"\n",
    "    if [ ! -f \"$targetp_out\" ]; then\n",
    "        /home/mauricio/mauricio_PROGRAMAS/targetp-2.0/bin/targetp -fasta \"$fasta_file\" -prefix \"$targetp_out\"\n",
    "    fi\n",
    "}\n",
    "\n",
    "# Export the function so it's available to parallel\n",
    "export -f run_targetp\n",
    "\n",
    "# Get a list of fasta files\n",
    "fasta_files=../data/platyhelminthes_dataset_full/*.faa\n",
    "\n",
    "# Run the processing of fasta files in parallel using GNU Parallel\n",
    "parallel -j 32 run_targetp ::: $fasta_files\n"
   ]
  }
 ],
 "metadata": {
  "kernelspec": {
   "display_name": "Python 3",
   "language": "python",
   "name": "python3"
  },
  "language_info": {
   "codemirror_mode": {
    "name": "ipython",
    "version": 3
   },
   "file_extension": ".py",
   "mimetype": "text/x-python",
   "name": "python",
   "nbconvert_exporter": "python",
   "pygments_lexer": "ipython3",
   "version": "3.6.10"
  }
 },
 "nbformat": 4,
 "nbformat_minor": 5
}
